{
 "cells": [
  {
   "cell_type": "markdown",
   "metadata": {},
   "source": [
    "# Plotting Results of the Tolman-Eichenbaum Machine\n"
   ]
  },
  {
   "cell_type": "markdown",
   "metadata": {},
   "source": [
    "### Importing Required Libraries\n",
    "Here, we import all the necessary libraries and modules required for plotting the results of the trained TEM models."
   ]
  },
  {
   "cell_type": "code",
   "metadata": {
    "ExecuteTime": {
     "end_time": "2024-04-10T12:47:01.096807Z",
     "start_time": "2024-04-10T12:46:57.249154Z"
    }
   },
   "source": [
    "import importlib\n",
    "import os\n",
    "import pickle\n",
    "import pandas as pd\n",
    "import matplotlib.pyplot as plt\n",
    "\n",
    "import neuralplayground.agents.whittington_2020_extras.whittington_2020_analyse as analyse\n",
    "from neuralplayground.plotting import PlotSim\n",
    "from neuralplayground.comparison import GridScorer"
   ],
   "execution_count": 1,
   "outputs": []
  },
  {
   "cell_type": "markdown",
   "metadata": {},
   "source": [
    "### Setting Up Simulation Parameters\n",
    "We define the simulation ID, save path, and plotting loop parameters to set up the simulation. We are also able to `fetch_model_path` to retrieve pre-trained models from Gin."
   ]
  },
  {
   "cell_type": "code",
   "metadata": {
    "ExecuteTime": {
     "end_time": "2024-04-10T12:47:04.148204Z",
     "start_time": "2024-04-10T12:47:01.098517Z"
    }
   },
   "source": [
    "simulation_id = \"TEM_custom_plot_sim\"\n",
    "from neuralplayground.saved_models import fetch_model_path\n",
    "save_path = fetch_model_path(\"whittington_2020_in_discritized_objects\")\n",
    "print('save_path')\n",
    "plotting_loop_params = {\"n_episode\": 5000}"
   ],
   "execution_count": 2,
   "outputs": []
  },
  {
   "cell_type": "markdown",
   "metadata": {},
   "source": [
    "### Loading Model Parameters and Weights\n",
    "Load the training dictionary, model weights, and model specifications. We also initialize the TEM model and load its weights and hyper-parameters from the saved files.\n"
   ]
  },
  {
   "cell_type": "code",
   "metadata": {
    "ExecuteTime": {
     "end_time": "2024-04-10T12:47:04.398356Z",
     "start_time": "2024-04-10T12:47:04.149058Z"
    }
   },
   "source": [
    "training_dict = pd.read_pickle(os.path.join(os.getcwd(), save_path, \"params.dict\"))\n",
    "model_weights = pd.read_pickle(os.path.join(save_path, \"agent\"))\n",
    "model_spec = importlib.util.spec_from_file_location(\"model\", save_path + \"whittington_2020_model.py\")\n",
    "model = importlib.util.module_from_spec(model_spec)\n",
    "model_spec.loader.exec_module(model)\n",
    "params = pd.read_pickle(os.path.join(save_path, \"agent_hyper\"))\n",
    "tem = model.Model(params)\n",
    "tem.load_state_dict(model_weights)\n",
    "tem.eval()"
   ],
   "execution_count": 3,
   "outputs": []
  },
  {
   "cell_type": "markdown",
   "metadata": {},
   "source": [
    "### Initializing Simulation\n",
    "We initialize the simulation by creating an instance of the `PlotSim` class and passing the required parameters."
   ]
  },
  {
   "cell_type": "code",
   "metadata": {
    "ExecuteTime": {
     "end_time": "2024-04-10T12:47:04.402239Z",
     "start_time": "2024-04-10T12:47:04.399720Z"
    }
   },
   "source": [
    "sim = PlotSim(\n",
    "    simulation_id=simulation_id,\n",
    "    agent_class=training_dict[\"agent_class\"],\n",
    "    agent_params=training_dict[\"agent_params\"],\n",
    "    env_class=training_dict[\"env_class\"],\n",
    "    env_params=training_dict[\"env_params\"],\n",
    "    plotting_loop_params=plotting_loop_params,\n",
    ")"
   ],
   "execution_count": 4,
   "outputs": []
  },
  {
   "cell_type": "markdown",
   "metadata": {},
   "source": [
    "### Plotting Simulation\n",
    "Here, we simulate an agent's trajectory through it's environment; this environment is, by default, the same as the one it was trained in. We also plot the trajectory of the trainedn agent in it's environment."
   ]
  },
  {
   "cell_type": "code",
   "metadata": {
    "ExecuteTime": {
     "end_time": "2024-04-10T12:47:52.520221Z",
     "start_time": "2024-04-10T12:47:04.403131Z"
    }
   },
   "source": [
    "trained_agent, trained_env = sim.plot_sim(save_path, n_walks=1000, random_state=False, custom_state=[0.5,0.5])\n",
    "trained_env.plot_trajectories();"
   ],
   "execution_count": 5,
   "outputs": []
  },
  {
   "cell_type": "markdown",
   "metadata": {},
   "source": [
    "### Loading Environments and Model Input\n",
    "We load the trained agent's trajectory, as well as information it collected about it's environment during the plotting simulation."
   ]
  },
  {
   "cell_type": "code",
   "metadata": {
    "ExecuteTime": {
     "end_time": "2024-04-10T12:47:52.583215Z",
     "start_time": "2024-04-10T12:47:52.521275Z"
    }
   },
   "source": [
    "with open(os.path.join(save_path, \"NPG_environments.pkl\"), \"rb\") as f:\n",
    "    environments = pickle.load(f)\n",
    "with open(os.path.join(save_path, \"NPG_model_input.pkl\"), \"rb\") as f:\n",
    "    model_input = pickle.load(f)"
   ],
   "execution_count": 6,
   "outputs": []
  },
  {
   "cell_type": "markdown",
   "metadata": {},
   "source": [
    "### Plotting Run\n",
    "This is where we update the agent's internal representation, by running it through our virtual environment. For example, it is during these interactions between agent and environment that grid and place cells are generated."
   ]
  },
  {
   "cell_type": "code",
   "metadata": {
    "ExecuteTime": {
     "end_time": "2024-04-10T12:47:57.836999Z",
     "start_time": "2024-04-10T12:47:52.584374Z"
    }
   },
   "source": [
    "training_dict[\"params\"] = training_dict[\"agent_params\"]\n",
    "del training_dict[\"agent_params\"]\n",
    "agent = training_dict[\"agent_class\"](**training_dict[\"params\"])\n",
    "agent.plot_run(tem, model_input, environments)"
   ],
   "execution_count": 7,
   "outputs": []
  },
  {
   "cell_type": "markdown",
   "metadata": {},
   "source": [
    "### Plotting Grid Cell and Place Cell Rate Maps\n",
    "We plot both the grid cell and place cell rate maps using the `plot_rate_map` method. These are plotted at 5 frequencies, each containing between 18 and 30 rate maps for individual cells."
   ]
  },
  {
   "cell_type": "code",
   "metadata": {
    "ExecuteTime": {
     "end_time": "2024-04-10T12:48:13.195303Z",
     "start_time": "2024-04-10T12:47:57.837911Z"
    }
   },
   "source": [
    "agent.plot_rate_map(rate_map_type='g');\n",
    "agent.plot_rate_map(rate_map_type='p');"
   ],
   "execution_count": 8,
   "outputs": []
  },
  {
   "cell_type": "markdown",
   "metadata": {},
   "source": [
    "### Scoring and Plotting Grid\n",
    "Finally, we apply the `GridScorer` metric. The score provides a quantitative measure of the grid's quality."
   ]
  },
  {
   "cell_type": "code",
   "metadata": {
    "ExecuteTime": {
     "end_time": "2024-04-10T12:48:13.317758Z",
     "start_time": "2024-04-10T12:48:13.196222Z"
    }
   },
   "source": [
    "rate_map_mat = agent.get_rate_map_matrix(agent.g_rates,1,2)\n",
    "GridScorer = GridScorer(rate_map_mat.shape[0])\n",
    "GridScorer.plot_grid_score(r_out_im = rate_map_mat, plot= True)\n",
    "score = GridScorer.get_scores(rate_map_mat)"
   ],
   "execution_count": 9,
   "outputs": []
  },
  {
   "cell_type": "code",
   "metadata": {
    "ExecuteTime": {
     "end_time": "2024-04-10T12:48:13.321173Z",
     "start_time": "2024-04-10T12:48:13.319627Z"
    }
   },
   "source": [],
   "execution_count": 9,
   "outputs": []
  },
  {
   "cell_type": "code",
   "metadata": {
    "ExecuteTime": {
     "end_time": "2024-04-10T12:48:13.323528Z",
     "start_time": "2024-04-10T12:48:13.321977Z"
    }
   },
   "source": [],
   "execution_count": 9,
   "outputs": []
  },
  {
   "cell_type": "code",
   "metadata": {
    "ExecuteTime": {
     "end_time": "2024-04-10T12:48:13.326414Z",
     "start_time": "2024-04-10T12:48:13.324555Z"
    }
   },
   "source": [],
   "execution_count": 9,
   "outputs": []
  }
 ],
 "metadata": {
  "kernelspec": {
   "display_name": "Python 3 (ipykernel)",
   "language": "python",
   "name": "python3"
  },
  "language_info": {
   "codemirror_mode": {
    "name": "ipython",
    "version": 3
   },
   "file_extension": ".py",
   "mimetype": "text/x-python",
   "name": "python",
   "nbconvert_exporter": "python",
   "pygments_lexer": "ipython3",
   "version": "3.11.4"
  },
  "vscode": {
   "interpreter": {
    "hash": "15eb1741d065afa063da15f1869d764f528c76a045e5183fc55e415d39bfb68e"
   }
  }
 },
 "nbformat": 4,
 "nbformat_minor": 4
}
