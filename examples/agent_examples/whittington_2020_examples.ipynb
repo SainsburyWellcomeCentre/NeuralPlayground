{
 "cells": [
  {
   "cell_type": "markdown",
   "metadata": {},
   "source": [
    "# The Tolman-Eichenbaum Machine: Unifying Space and Relational Memory through Generalization in the Hippocampal Formation”, \n",
    "James C.R.Whittington, Timothy H.Muller, ShirleyMark, GuifenChen, CaswellBarry, NeilBurgess, Timothy E.J.Behrens,\n",
    "\n",
    "https://www.sciencedirect.com/science/article/pii/S009286742031388X"
   ]
  },
  {
   "cell_type": "markdown",
   "metadata": {},
   "source": [
    "<img src=“/nfs/nhome/live/lhollingsworth/Documents/Miscelaneous/TEM_image.jpg” width=1000>"
   ]
  },
  {
   "cell_type": "code",
   "execution_count": 1,
   "metadata": {},
   "outputs": [
    {
     "name": "stderr",
     "output_type": "stream",
     "text": [
      "/nfs/nhome/live/lhollingsworth/miniconda3/envs/tf_gpu/lib/python3.6/site-packages/tensorflow/python/framework/dtypes.py:523: FutureWarning: Passing (type, 1) or '1type' as a synonym of type is deprecated; in a future version of numpy, it will be understood as (type, (1,)) / '(1,)type'.\n",
      "  _np_qint8 = np.dtype([(\"qint8\", np.int8, 1)])\n",
      "/nfs/nhome/live/lhollingsworth/miniconda3/envs/tf_gpu/lib/python3.6/site-packages/tensorflow/python/framework/dtypes.py:524: FutureWarning: Passing (type, 1) or '1type' as a synonym of type is deprecated; in a future version of numpy, it will be understood as (type, (1,)) / '(1,)type'.\n",
      "  _np_quint8 = np.dtype([(\"quint8\", np.uint8, 1)])\n",
      "/nfs/nhome/live/lhollingsworth/miniconda3/envs/tf_gpu/lib/python3.6/site-packages/tensorflow/python/framework/dtypes.py:525: FutureWarning: Passing (type, 1) or '1type' as a synonym of type is deprecated; in a future version of numpy, it will be understood as (type, (1,)) / '(1,)type'.\n",
      "  _np_qint16 = np.dtype([(\"qint16\", np.int16, 1)])\n",
      "/nfs/nhome/live/lhollingsworth/miniconda3/envs/tf_gpu/lib/python3.6/site-packages/tensorflow/python/framework/dtypes.py:526: FutureWarning: Passing (type, 1) or '1type' as a synonym of type is deprecated; in a future version of numpy, it will be understood as (type, (1,)) / '(1,)type'.\n",
      "  _np_quint16 = np.dtype([(\"quint16\", np.uint16, 1)])\n",
      "/nfs/nhome/live/lhollingsworth/miniconda3/envs/tf_gpu/lib/python3.6/site-packages/tensorflow/python/framework/dtypes.py:527: FutureWarning: Passing (type, 1) or '1type' as a synonym of type is deprecated; in a future version of numpy, it will be understood as (type, (1,)) / '(1,)type'.\n",
      "  _np_qint32 = np.dtype([(\"qint32\", np.int32, 1)])\n",
      "/nfs/nhome/live/lhollingsworth/miniconda3/envs/tf_gpu/lib/python3.6/site-packages/tensorflow/python/framework/dtypes.py:532: FutureWarning: Passing (type, 1) or '1type' as a synonym of type is deprecated; in a future version of numpy, it will be understood as (type, (1,)) / '(1,)type'.\n",
      "  np_resource = np.dtype([(\"resource\", np.ubyte, 1)])\n"
     ]
    }
   ],
   "source": [
    "\"\"\"\n",
    "Implementation for SR Kim\n",
    "\"\"\"\n",
    "import sys\n",
    "sys.path.append(\"../\")\n",
    "import numpy as np\n",
    "import random\n",
    "import matplotlib.pyplot as plt\n",
    "import numpy as np\n",
    "from tqdm import tqdm\n",
    "\n",
    "from sehec.arenas.TEMenv import *\n",
    "from sehec.agents.whittington_2020 import *\n",
    "from sehec.agents.TEM_parameters import *\n",
    "\n",
    "pars = default_params()"
   ]
  },
  {
   "cell_type": "markdown",
   "metadata": {},
   "source": [
    "Initialise environment(s) and agent."
   ]
  },
  {
   "cell_type": "code",
   "execution_count": 2,
   "metadata": {},
   "outputs": [],
   "source": [
    "env_name = 'TEMenv'\n",
    "mod_name = 'TEM'\n",
    "\n",
    "envs = TEMenv(environment_name=env_name, **pars)\n",
    "agent = TEM(model_name=mod_name, **pars)"
   ]
  },
  {
   "cell_type": "markdown",
   "metadata": {},
   "source": [
    "Run the model"
   ]
  },
  {
   "cell_type": "code",
   "execution_count": 3,
   "metadata": {},
   "outputs": [
    {
     "name": "stderr",
     "output_type": "stream",
     "text": [
      "  3%|▎         | 9/300 [53:43<20:25:12, 252.62s/it]  /nfs/nhome/live/lhollingsworth/miniconda3/envs/tf_gpu/lib/python3.6/site-packages/numpy/core/_asarray.py:136: VisibleDeprecationWarning: Creating an ndarray from ragged nested sequences (which is a list-or-tuple of lists-or-tuples-or ndarrays with different lengths or shapes) is deprecated. If you meant to do this, you must specify 'dtype=object' when creating the ndarray\n",
      "  return array(a, dtype, copy=False, order=order, subok=True)\n",
      "  4%|▍         | 12/300 [1:02:58<17:46:39, 222.22s/it]"
     ]
    }
   ],
   "source": [
    "for i in tqdm(range(pars['train_iters'])):\n",
    "    adjs, trans, allowed = envs.step()\n",
    "    n_walk, _ = agent.update(adjs, trans, allowed, 0, i)\n",
    "    for j in range(n_walk - 1):\n",
    "        # RL Loop\n",
    "        adjs, trans, allowed = envs.step()\n",
    "        _, history = agent.update(adjs, trans, allowed, j+1, i)\n",
    "\n",
    "envs.plot_trajectory(history_data=history)\n",
    "plt.savefig('saved_plot_trajectory{0}.png'.format(j))"
   ]
  }
 ],
 "metadata": {
  "kernelspec": {
   "display_name": "Python 3.6.13",
   "language": "python",
   "name": "python3"
  },
  "language_info": {
   "codemirror_mode": {
    "name": "ipython",
    "version": 3
   },
   "file_extension": ".py",
   "mimetype": "text/x-python",
   "name": "python",
   "nbconvert_exporter": "python",
   "pygments_lexer": "ipython3",
   "version": "3.6.13"
  },
  "vscode": {
   "interpreter": {
    "hash": "cb711b48ea87f2e3c60ae38ef0a8b23537c6a4193bdfbbf3f909425b2151f03b"
   }
  }
 },
 "nbformat": 4,
 "nbformat_minor": 2
}
