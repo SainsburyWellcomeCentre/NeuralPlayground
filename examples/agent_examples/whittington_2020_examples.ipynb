{
 "cells": [
  {
   "cell_type": "markdown",
   "metadata": {},
   "source": [
    "# The Tolman-Eichenbaum Machine: Unifying Space and Relational Memory through Generalization in the Hippocampal Formation”, \n",
    "James C.R.Whittington, Timothy H.Muller, ShirleyMark, GuifenChen, CaswellBarry, NeilBurgess, Timothy E.J.Behrens,\n",
    "\n",
    "https://www.sciencedirect.com/science/article/pii/S009286742031388X"
   ]
  },
  {
   "cell_type": "code",
   "execution_count": 7,
   "metadata": {},
   "outputs": [
    {
     "ename": "ModuleNotFoundError",
     "evalue": "No module named 'sehec.agent.Whittington_2018'",
     "output_type": "error",
     "traceback": [
      "\u001b[0;31m---------------------------------------------------------------------------\u001b[0m",
      "\u001b[0;31mModuleNotFoundError\u001b[0m                       Traceback (most recent call last)",
      "Input \u001b[0;32mIn [7]\u001b[0m, in \u001b[0;36m<cell line: 14>\u001b[0;34m()\u001b[0m\n\u001b[1;32m     11\u001b[0m \u001b[38;5;28;01mfrom\u001b[39;00m \u001b[38;5;21;01mtqdm\u001b[39;00m \u001b[38;5;28;01mimport\u001b[39;00m tqdm\n\u001b[1;32m     13\u001b[0m \u001b[38;5;28;01mfrom\u001b[39;00m \u001b[38;5;21;01msehec\u001b[39;00m\u001b[38;5;21;01m.\u001b[39;00m\u001b[38;5;21;01marena\u001b[39;00m\u001b[38;5;21;01m.\u001b[39;00m\u001b[38;5;21;01msimple2d\u001b[39;00m \u001b[38;5;28;01mimport\u001b[39;00m Simple2D, Sargolini2006, Hafting2008,BasicSargolini2006\n\u001b[0;32m---> 14\u001b[0m \u001b[38;5;28;01mfrom\u001b[39;00m \u001b[38;5;21;01msehec\u001b[39;00m\u001b[38;5;21;01m.\u001b[39;00m\u001b[38;5;21;01magent\u001b[39;00m\u001b[38;5;21;01m.\u001b[39;00m\u001b[38;5;21;01mWhittington_2018\u001b[39;00m\u001b[38;5;21;01m.\u001b[39;00m\u001b[38;5;21;01mTEM\u001b[39;00m \u001b[38;5;28;01mimport\u001b[39;00m TEM\n",
      "\u001b[0;31mModuleNotFoundError\u001b[0m: No module named 'sehec.agent.Whittington_2018'"
     ]
    }
   ],
   "source": [
    "\"\"\"\n",
    "Implementation for SR Kim\n",
    "\"\"\"\n",
    "import sys\n",
    "sys.path.append(\"../\")\n",
    "import numpy as np\n",
    "import random\n",
    "import matplotlib.pyplot as plt\n",
    "import numpy as np\n",
    "from scipy.stats import multivariate_normal\n",
    "from tqdm import tqdm\n",
    "\n",
    "from sehec.arena.simple2d import Simple2D, Sargolini2006, Hafting2008,BasicSargolini2006\n",
    "from sehec.agent.Whittington_2018.TEM import TEM\n"
   ]
  },
  {
   "cell_type": "code",
   "execution_count": 6,
   "metadata": {},
   "outputs": [
    {
     "ename": "NameError",
     "evalue": "name 'TEM' is not defined",
     "output_type": "error",
     "traceback": [
      "\u001b[0;31m---------------------------------------------------------------------------\u001b[0m",
      "\u001b[0;31mNameError\u001b[0m                                 Traceback (most recent call last)",
      "Input \u001b[0;32mIn [6]\u001b[0m, in \u001b[0;36m<cell line: 24>\u001b[0;34m()\u001b[0m\n\u001b[1;32m     21\u001b[0m state_density \u001b[38;5;241m=\u001b[39m \u001b[38;5;28mint\u001b[39m(\u001b[38;5;241m1\u001b[39m \u001b[38;5;241m/\u001b[39m agent_step_size)\n\u001b[1;32m     23\u001b[0m twoDvalue\u001b[38;5;241m=\u001b[39m\u001b[38;5;28;01mTrue\u001b[39;00m\n\u001b[0;32m---> 24\u001b[0m agent \u001b[38;5;241m=\u001b[39m \u001b[43mTEM\u001b[49m(discount\u001b[38;5;241m=\u001b[39mdiscount, t_episode\u001b[38;5;241m=\u001b[39mt_episode, n_episode\u001b[38;5;241m=\u001b[39mn_episode, threshold\u001b[38;5;241m=\u001b[39mthreshold, lr_td\u001b[38;5;241m=\u001b[39mlr_td,\n\u001b[1;32m     25\u001b[0m                room_width\u001b[38;5;241m=\u001b[39menv\u001b[38;5;241m.\u001b[39mroom_width, room_depth\u001b[38;5;241m=\u001b[39menv\u001b[38;5;241m.\u001b[39mroom_depth, state_density\u001b[38;5;241m=\u001b[39mstate_density,twoD\u001b[38;5;241m=\u001b[39mtwoDvalue)\n",
      "\u001b[0;31mNameError\u001b[0m: name 'TEM' is not defined"
     ]
    }
   ],
   "source": [
    "# Create an env\n",
    "room_width = [-100,100]\n",
    "room_depth = [-100,100]\n",
    "env_name = \"env_example\"\n",
    "time_step_size = 1\n",
    "agent_step_size = 0.5\n",
    "\n",
    "\n",
    "# Init environment\n",
    "env = Simple2D(environment_name=env_name,\n",
    "               arena_x_limits = room_width,\n",
    "               arena_y_limits = room_depth,\n",
    "               time_step_size = time_step_size,\n",
    "               agent_step_size = agent_step_size)\n",
    "\n",
    "discount = .9\n",
    "threshold = 1e-6\n",
    "lr_td = 1e-2\n",
    "t_episode = 100\n",
    "n_episode = 100\n",
    "state_density = int(1 / agent_step_size)\n",
    "\n",
    "twoDvalue=True\n",
    "agent = TEM(discount=discount, t_episode=t_episode, n_episode=n_episode, threshold=threshold, lr_td=lr_td,\n",
    "               room_width=env.room_width, room_depth=env.room_depth, state_density=state_density,twoD=twoDvalue)\n"
   ]
  },
  {
   "cell_type": "code",
   "execution_count": null,
   "metadata": {},
   "outputs": [],
   "source": [
    "       "
   ]
  }
 ],
 "metadata": {
  "kernelspec": {
   "display_name": "Python 3",
   "language": "python",
   "name": "python3"
  },
  "language_info": {
   "codemirror_mode": {
    "name": "ipython",
    "version": 3
   },
   "file_extension": ".py",
   "mimetype": "text/x-python",
   "name": "python",
   "nbconvert_exporter": "python",
   "pygments_lexer": "ipython3",
   "version": "3.7.9"
  }
 },
 "nbformat": 4,
 "nbformat_minor": 2
}
