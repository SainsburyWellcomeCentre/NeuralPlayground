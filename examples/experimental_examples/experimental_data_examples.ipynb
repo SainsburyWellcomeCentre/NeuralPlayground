{
 "cells": [
  {
   "cell_type": "markdown",
   "metadata": {},
   "source": [
    "# Experiment Class Examples"
   ]
  },
  {
   "cell_type": "markdown",
   "metadata": {},
   "source": [
    "## In this notbook we provide easy example on how access to the experimental results such as neural recording, behaviours, etc... \n",
    "\n",
    "Each of the classes listed below are designed to load the data from their respective experiment. \n",
    "The classes have methods to allow easy access to the data, and some plot methods to see neural recordings and animal trajectories."
   ]
  },
  {
   "cell_type": "code",
   "execution_count": 20,
   "metadata": {},
   "outputs": [
    {
     "data": {
      "text/html": [
       "<style>.container { width:80% !important; }</style>"
      ],
      "text/plain": [
       "<IPython.core.display.HTML object>"
      ]
     },
     "metadata": {},
     "output_type": "display_data"
    }
   ],
   "source": [
    "from IPython.display import display, HTML\n",
    "display(HTML(\"<style>.container { width:80% !important; }</style>\"))\n",
    "import numpy as np\n",
    "import matplotlib.pyplot as plt"
   ]
  },
  {
   "cell_type": "markdown",
   "metadata": {},
   "source": [
    "Let's start with *Hippocampus-independent phase precession in entorhinal grid cells* by Hafting et al 2008 (https://www.nature.com/articles/nature06957)"
   ]
  },
  {
   "cell_type": "code",
   "execution_count": 21,
   "metadata": {},
   "outputs": [],
   "source": [
    "from neuralplayground.experiments import Hafting2008Data\n",
    "from neuralplayground.utils import OnlineRateMap"
   ]
  },
  {
   "cell_type": "markdown",
   "metadata": {},
   "source": [
    "Part of the data is already loaded in the repo. You can initialize the class with \n",
    "\n",
    "```verbose = True``` \n",
    "\n",
    "to print the original readme written by the authors describing the dataset, and a list of the recordings"
   ]
  },
  {
   "cell_type": "code",
   "execution_count": 22,
   "metadata": {},
   "outputs": [],
   "source": [
    "hafting_data = Hafting2008Data(verbose=False)"
   ]
  },
  {
   "cell_type": "markdown",
   "metadata": {},
   "source": [
    "If you want access to the whole dataset, download the data from https://archive.norstore.no/pages/public/datasetDetail.jsf?id=C43035A4-5CC5-44F2-B207-126922523FD9 and add it to the path with the rest of the data for the given class. You can get the path of the data by running"
   ]
  },
  {
   "cell_type": "code",
   "execution_count": 23,
   "metadata": {},
   "outputs": [
    {
     "data": {
      "text/plain": [
       "'/Users/clementine/Documents/UCL/lectures/NeuralPlayground/neuralplayground/experiments/hafting_2008/'"
      ]
     },
     "execution_count": 23,
     "metadata": {},
     "output_type": "execute_result"
    }
   ],
   "source": [
    "hafting_data.data_path"
   ]
  },
  {
   "cell_type": "markdown",
   "metadata": {},
   "source": [
    "The class already loaded the data from the original format and organized it. The available data is added to a dataframe of the form"
   ]
  },
  {
   "cell_type": "code",
   "execution_count": 24,
   "metadata": {},
   "outputs": [
    {
     "name": "stdout",
     "output_type": "stream",
     "text": [
      "Dataframe with recordings\n"
     ]
    },
    {
     "data": {
      "text/html": [
       "<div>\n",
       "<style scoped>\n",
       "    .dataframe tbody tr th:only-of-type {\n",
       "        vertical-align: middle;\n",
       "    }\n",
       "\n",
       "    .dataframe tbody tr th {\n",
       "        vertical-align: top;\n",
       "    }\n",
       "\n",
       "    .dataframe thead th {\n",
       "        text-align: right;\n",
       "    }\n",
       "</style>\n",
       "<table border=\"1\" class=\"dataframe\">\n",
       "  <thead>\n",
       "    <tr style=\"text-align: right;\">\n",
       "      <th></th>\n",
       "      <th>rat_id</th>\n",
       "      <th>session</th>\n",
       "      <th>recorded_vars</th>\n",
       "    </tr>\n",
       "    <tr>\n",
       "      <th>rec_index</th>\n",
       "      <th></th>\n",
       "      <th></th>\n",
       "      <th></th>\n",
       "    </tr>\n",
       "  </thead>\n",
       "  <tbody>\n",
       "    <tr>\n",
       "      <th>0</th>\n",
       "      <td>11015</td>\n",
       "      <td>13120410</td>\n",
       "      <td>[EEG, position, t5c1]</td>\n",
       "    </tr>\n",
       "    <tr>\n",
       "      <th>1</th>\n",
       "      <td>11265</td>\n",
       "      <td>13030610</td>\n",
       "      <td>[EEG, EG2, position, t5c1, t8c2]</td>\n",
       "    </tr>\n",
       "    <tr>\n",
       "      <th>2</th>\n",
       "      <td>11265</td>\n",
       "      <td>15020610</td>\n",
       "      <td>[EEG, position, t3c2, t7c1]</td>\n",
       "    </tr>\n",
       "    <tr>\n",
       "      <th>3</th>\n",
       "      <td>11265</td>\n",
       "      <td>16030611</td>\n",
       "      <td>[EEG, EG2, position, t4c1, t4c2, t4c4]</td>\n",
       "    </tr>\n",
       "    <tr>\n",
       "      <th>4</th>\n",
       "      <td>11340</td>\n",
       "      <td>01120511</td>\n",
       "      <td>[EEG, EG2, position, t7c1]</td>\n",
       "    </tr>\n",
       "    <tr>\n",
       "      <th>5</th>\n",
       "      <td>11343</td>\n",
       "      <td>16120511</td>\n",
       "      <td>[EEG, EG2, position, t1c1]</td>\n",
       "    </tr>\n",
       "    <tr>\n",
       "      <th>6</th>\n",
       "      <td>11607</td>\n",
       "      <td>02110610</td>\n",
       "      <td>[EEG, EG2, position, t8c1]</td>\n",
       "    </tr>\n",
       "    <tr>\n",
       "      <th>7</th>\n",
       "      <td>11607</td>\n",
       "      <td>28110611</td>\n",
       "      <td>[EEG, EG2, EG3, EG4, position, t6c2]</td>\n",
       "    </tr>\n",
       "    <tr>\n",
       "      <th>8</th>\n",
       "      <td>11647</td>\n",
       "      <td>09010715</td>\n",
       "      <td>[EEG, EG2, EG3, EG4, position, t8c1]</td>\n",
       "    </tr>\n",
       "    <tr>\n",
       "      <th>9</th>\n",
       "      <td>11647</td>\n",
       "      <td>10010711</td>\n",
       "      <td>[EEG, EG2, EG3, EG4, position, t1c2]</td>\n",
       "    </tr>\n",
       "    <tr>\n",
       "      <th>10</th>\n",
       "      <td>11684</td>\n",
       "      <td>20020710</td>\n",
       "      <td>[EG2, EG3, EG4, position, t5c1, t8c1]</td>\n",
       "    </tr>\n",
       "  </tbody>\n",
       "</table>\n",
       "</div>"
      ],
      "text/plain": [
       "          rat_id   session                           recorded_vars\n",
       "rec_index                                                         \n",
       "0          11015  13120410                   [EEG, position, t5c1]\n",
       "1          11265  13030610        [EEG, EG2, position, t5c1, t8c2]\n",
       "2          11265  15020610             [EEG, position, t3c2, t7c1]\n",
       "3          11265  16030611  [EEG, EG2, position, t4c1, t4c2, t4c4]\n",
       "4          11340  01120511              [EEG, EG2, position, t7c1]\n",
       "5          11343  16120511              [EEG, EG2, position, t1c1]\n",
       "6          11607  02110610              [EEG, EG2, position, t8c1]\n",
       "7          11607  28110611    [EEG, EG2, EG3, EG4, position, t6c2]\n",
       "8          11647  09010715    [EEG, EG2, EG3, EG4, position, t8c1]\n",
       "9          11647  10010711    [EEG, EG2, EG3, EG4, position, t1c2]\n",
       "10         11684  20020710   [EG2, EG3, EG4, position, t5c1, t8c1]"
      ]
     },
     "metadata": {},
     "output_type": "display_data"
    }
   ],
   "source": [
    "recording_list = hafting_data.show_data(full_dataframe=False)  # full_datagrame = true will show everything available"
   ]
  },
  {
   "cell_type": "markdown",
   "metadata": {},
   "source": [
    "Each of the recordings has a rat_id, session id, and the recorded variables you have access to. You can ask for a description from the authors by asking for the data readme (or initialize the class with verbosity)"
   ]
  },
  {
   "cell_type": "code",
   "execution_count": 25,
   "metadata": {},
   "outputs": [
    {
     "name": "stdout",
     "output_type": "stream",
     "text": [
      "These cells are from layers II and III of medial entorhinal cortex and have  been published in Hafting et al. (Nature, 2008). \n",
      "\n",
      "The files are in matlab format. They include spike and position times for a number of simultaneously recorded cells from rats that were running on a linear track (mostly 320 cm).\n",
      "The cells were recorded in the dorsocaudal 25% portion of the medial entorhinal cortex. \n",
      "\n",
      "The cell id is based on tetrode number and cell number (i.e: t2c7).\n",
      "\n",
      "The EEG file is included to enable analyses of theta phase relationships etc.\n",
      "\n",
      "\n",
      "There are 3 file types available for each recording: EEG data, Position data and Spike data.\n",
      "\n",
      "The naming convention for the files is as follow\n",
      "\n",
      "Rat number - session number - file type (i.e: 11015-13120410_EEG)\n",
      "\n",
      "The spike data file has the cell id as the file type (i.e: 11015-13120410_t5c1).\n",
      "\n",
      "\n",
      "Each session duration is normally 10 minutes, but some sessions combine 2 or more 10 minutes sessions, this is marked in \n",
      "the file name by using \"+\" between the session numbers (i.e: 11265-13030610+11+12+13_POS). Note that the 6 first digits in the session \n",
      "number is the date of the recording. For some sessions there is more than 1 local EEG-signal (each from a different tetrode).\n",
      "\n",
      "When loading the files into Matlab you get the following variables:\n",
      "\n",
      "posx\tArray with the x-positions for the tracking LED\n",
      "posy\tArray with the y-positions for the tracking LED\n",
      "post\tArray with the position timestamps.\n",
      "ts\tArray with the cell spike timestamps.\n",
      "EEG\tArray with the EEG-samples.\n",
      "\n",
      "The position data have been smoothed with a moving mean filter to remove tracking jitter.\n",
      "\n",
      "The EEG is sampled at 250 Hz, and the values are given in bits ranging from -128 to 127.\n",
      "High resolution EEG sampled at 4800hz included in subfolder\n",
      "\n",
      "All examples are shown in Supplementary Figures 2 and 3 in Hafting et al (2008).\n",
      "\n",
      "\n",
      "You can use the data for whatever you want but we take no responsibility for what is published!\n",
      "\n",
      "Please refer to our web site where you obtained the data in your Methods section when you write up the results.\n",
      "\n",
      "Best regards,\n",
      "Raymond Skjerpeng and Edvard Moser\n",
      "Kavli Institute for Systems Neuroscience\n",
      "Centre for the Biology of Memory\n",
      "Norwegian University of Science and Technology\n",
      "\n",
      "Correspondence: Edvard Moser (edvard.moser@ntnu.no)\n",
      "\n"
     ]
    }
   ],
   "source": [
    "hafting_data.show_readme()"
   ]
  },
  {
   "cell_type": "markdown",
   "metadata": {},
   "source": [
    "Now, to have access to the data, you just need to specify a recording index (if the recording index is not given, it will give a nice default one), or a list of recording index as follows"
   ]
  },
  {
   "cell_type": "code",
   "execution_count": 26,
   "metadata": {
    "scrolled": true
   },
   "outputs": [],
   "source": [
    "recorded_data = hafting_data.get_recording_data(recording_index=[1, 2])"
   ]
  },
  {
   "cell_type": "markdown",
   "metadata": {},
   "source": [
    "```recorded_data``` will be a list with the information for each of the requested recordings. The first component of the list is a dictionary with the raw data, the second is a list of the recorded variables, and the third is a dictionary with the session information. Each of the dictionaries have the keys listed in the ```recorded_vars```, so you have access to those. For example, you can access the position of the mouse of the recording index 2 by running"
   ]
  },
  {
   "cell_type": "code",
   "execution_count": 27,
   "metadata": {},
   "outputs": [],
   "source": [
    "recording_index1 = recorded_data[1]  # Data from recording index 2\n",
    "dictionary_with_data = recording_index1[0]"
   ]
  },
  {
   "cell_type": "code",
   "execution_count": 28,
   "metadata": {},
   "outputs": [
    {
     "data": {
      "text/plain": [
       "dict_keys(['EEG', 'position', 't3c2', 't7c1'])"
      ]
     },
     "execution_count": 28,
     "metadata": {},
     "output_type": "execute_result"
    }
   ],
   "source": [
    "dictionary_with_data.keys()"
   ]
  },
  {
   "cell_type": "code",
   "execution_count": 29,
   "metadata": {},
   "outputs": [
    {
     "data": {
      "text/plain": [
       "{'posx': array([[114.27345937],\n",
       "        [115.67325168],\n",
       "        [115.67325168],\n",
       "        ...,\n",
       "        [-85.89684058],\n",
       "        [-86.83003545],\n",
       "        [-86.83003545]]),\n",
       " 'posy': array([[13.67351186],\n",
       "        [13.67351186],\n",
       "        [13.67351186],\n",
       "        ...,\n",
       "        [-4.0571907 ],\n",
       "        [-4.0571907 ],\n",
       "        [-4.0571907 ]]),\n",
       " 'post': array([[0.00000e+00],\n",
       "        [2.00000e-02],\n",
       "        [4.00000e-02],\n",
       "        ...,\n",
       "        [1.19994e+03],\n",
       "        [1.19996e+03],\n",
       "        [1.19998e+03]])}"
      ]
     },
     "execution_count": 29,
     "metadata": {},
     "output_type": "execute_result"
    }
   ],
   "source": [
    "dictionary_with_data[\"position\"]"
   ]
  },
  {
   "cell_type": "code",
   "execution_count": 30,
   "metadata": {},
   "outputs": [
    {
     "data": {
      "text/plain": [
       "(['EEG', 'position', 't3c2', 't7c1'],\n",
       " {'rat_id': '11265', 'session': '15020610'})"
      ]
     },
     "execution_count": 30,
     "metadata": {},
     "output_type": "execute_result"
    }
   ],
   "source": [
    "recording_index1[1], recording_index1[2]  # This are the recorded variables, and the session information for the given index"
   ]
  },
  {
   "cell_type": "markdown",
   "metadata": {},
   "source": [
    "## Plotting data\n",
    "There are two built in plotting methods from the class ```plot_recording_tetr``` and ```plot_trajectory```. Both of these functions receive a recording index, or a list of recording index. For the plot of the neural recording, you can also specify which tetrode you want. The plotting methods will also return the data used to make the plot. For example, the session ith recording index 3 has 3 different tetrode recording for the same session. Let's plot one of the specific tetrodes with its corresponding behavioral data."
   ]
  },
  {
   "cell_type": "code",
   "execution_count": 31,
   "metadata": {},
   "outputs": [
    {
     "data": {
      "text/plain": [
       "rat_id                                            11265\n",
       "session                                        16030611\n",
       "recorded_vars    [EEG, EG2, position, t4c1, t4c2, t4c4]\n",
       "Name: 3, dtype: object"
      ]
     },
     "execution_count": 31,
     "metadata": {},
     "output_type": "execute_result"
    }
   ],
   "source": [
    "recording_list.iloc[3]"
   ]
  },
  {
   "cell_type": "code",
   "execution_count": 32,
   "metadata": {},
   "outputs": [
    {
     "data": {
      "image/png": "[encoded data removed]",
      "text/plain": [
       "<Figure size 1000x800 with 2 Axes>"
      ]
     },
     "metadata": {},
     "output_type": "display_data"
    }
   ],
   "source": [
    "rate_map, x_bin, y_bin = hafting_data.plot_recording_tetr(recording_index=0) # Default tetrode will be the first in the list"
   ]
  },
  {
   "cell_type": "markdown",
   "metadata": {},
   "source": [
    "Plot two tetrode from the same recording"
   ]
  },
  {
   "cell_type": "code",
   "execution_count": 45,
   "metadata": {},
   "outputs": [
    {
     "ename": "TypeError",
     "evalue": "unhashable type: 'list'",
     "output_type": "error",
     "traceback": [
      "\u001b[0;31m---------------------------------------------------------------------------\u001b[0m",
      "\u001b[0;31mTypeError\u001b[0m                                 Traceback (most recent call last)",
      "Cell \u001b[0;32mIn[45], line 1\u001b[0m\n\u001b[0;32m----> 1\u001b[0m rate_map, x_bin, y_bin \u001b[38;5;241m=\u001b[39m \u001b[43mhafting_data\u001b[49m\u001b[38;5;241;43m.\u001b[39;49m\u001b[43mplot_recording_tetr\u001b[49m\u001b[43m(\u001b[49m\u001b[43mrecording_index\u001b[49m\u001b[38;5;241;43m=\u001b[39;49m\u001b[38;5;241;43m0\u001b[39;49m\u001b[43m,\u001b[49m\u001b[43m \u001b[49m\u001b[43mtetrode_id\u001b[49m\u001b[38;5;241;43m=\u001b[39;49m\u001b[43m[\u001b[49m\u001b[38;5;124;43m\"\u001b[39;49m\u001b[38;5;124;43mt4c1\u001b[39;49m\u001b[38;5;124;43m\"\u001b[39;49m\u001b[43m,\u001b[49m\u001b[38;5;124;43m\"\u001b[39;49m\u001b[38;5;124;43mt4c2\u001b[39;49m\u001b[38;5;124;43m\"\u001b[39;49m\u001b[43m]\u001b[49m\u001b[43m)\u001b[49m  \u001b[38;5;66;03m# Default tetrode will be the first in the list\u001b[39;00m\n",
      "File \u001b[0;32m~/Documents/UCL/lectures/NeuralPlayground/neuralplayground/experiments/hafting_2008_data.py:318\u001b[0m, in \u001b[0;36mHafting2008Data.plot_recording_tetr\u001b[0;34m(self, recording_index, save_path, ax, tetrode_id, bin_size)\u001b[0m\n\u001b[1;32m    315\u001b[0m arena_depth \u001b[38;5;241m=\u001b[39m \u001b[38;5;28mself\u001b[39m\u001b[38;5;241m.\u001b[39marena_limits[\u001b[38;5;241m1\u001b[39m, \u001b[38;5;241m1\u001b[39m] \u001b[38;5;241m-\u001b[39m \u001b[38;5;28mself\u001b[39m\u001b[38;5;241m.\u001b[39marena_limits[\u001b[38;5;241m1\u001b[39m, \u001b[38;5;241m0\u001b[39m]\n\u001b[1;32m    317\u001b[0m \u001b[38;5;66;03m# Recall spike data\u001b[39;00m\n\u001b[0;32m--> 318\u001b[0m time_array, test_spikes, x, y \u001b[38;5;241m=\u001b[39m \u001b[38;5;28;43mself\u001b[39;49m\u001b[38;5;241;43m.\u001b[39;49m\u001b[43mget_tetrode_data\u001b[49m\u001b[43m(\u001b[49m\u001b[43msession_data\u001b[49m\u001b[43m,\u001b[49m\u001b[43m \u001b[49m\u001b[43mtetrode_id\u001b[49m\u001b[43m)\u001b[49m\n\u001b[1;32m    320\u001b[0m \u001b[38;5;66;03m# Compute ratemap matrices from data\u001b[39;00m\n\u001b[1;32m    321\u001b[0m h, binx, biny \u001b[38;5;241m=\u001b[39m get_2D_ratemap(time_array, test_spikes, x, y, x_size\u001b[38;5;241m=\u001b[39m\u001b[38;5;28mint\u001b[39m(arena_width\u001b[38;5;241m/\u001b[39mbin_size),\n\u001b[1;32m    322\u001b[0m                                y_size\u001b[38;5;241m=\u001b[39m\u001b[38;5;28mint\u001b[39m(arena_depth\u001b[38;5;241m/\u001b[39mbin_size), filter_result\u001b[38;5;241m=\u001b[39m\u001b[38;5;28;01mTrue\u001b[39;00m)\n",
      "File \u001b[0;32m~/Documents/UCL/lectures/NeuralPlayground/neuralplayground/experiments/hafting_2008_data.py:241\u001b[0m, in \u001b[0;36mHafting2008Data.get_tetrode_data\u001b[0;34m(self, session_data, tetrode_id)\u001b[0m\n\u001b[1;32m    239\u001b[0m y \u001b[38;5;241m=\u001b[39m np\u001b[38;5;241m.\u001b[39mclip(y2, a_min\u001b[38;5;241m=\u001b[39m\u001b[38;5;28mself\u001b[39m\u001b[38;5;241m.\u001b[39marena_limits[\u001b[38;5;241m1\u001b[39m, \u001b[38;5;241m0\u001b[39m], a_max\u001b[38;5;241m=\u001b[39m\u001b[38;5;28mself\u001b[39m\u001b[38;5;241m.\u001b[39marena_limits[\u001b[38;5;241m1\u001b[39m, \u001b[38;5;241m1\u001b[39m])\n\u001b[1;32m    240\u001b[0m time_array \u001b[38;5;241m=\u001b[39m position_data[\u001b[38;5;124m\"\u001b[39m\u001b[38;5;124mpost\u001b[39m\u001b[38;5;124m\"\u001b[39m][:]\n\u001b[0;32m--> 241\u001b[0m tetrode_data \u001b[38;5;241m=\u001b[39m \u001b[43msession_data\u001b[49m\u001b[43m[\u001b[49m\u001b[43mtetrode_id\u001b[49m\u001b[43m]\u001b[49m\n\u001b[1;32m    242\u001b[0m test_spikes \u001b[38;5;241m=\u001b[39m tetrode_data[\u001b[38;5;124m\"\u001b[39m\u001b[38;5;124mts\u001b[39m\u001b[38;5;124m\"\u001b[39m][:, ]\n\u001b[1;32m    243\u001b[0m test_spikes \u001b[38;5;241m=\u001b[39m test_spikes[:, \u001b[38;5;241m0\u001b[39m]\n",
      "\u001b[0;31mTypeError\u001b[0m: unhashable type: 'list'"
     ]
    },
    {
     "data": {
      "image/png": "[encoded data removed]",
      "text/plain": [
       "<Figure size 1000x800 with 1 Axes>"
      ]
     },
     "metadata": {},
     "output_type": "display_data"
    }
   ],
   "source": [
    "rate_map, x_bin, y_bin = hafting_data.plot_recording_tetr(recording_index=0, tetrode_id=[\"t4c1\",\"t4c2\"])  # Default tetrode will be the first in the list"
   ]
  },
  {
   "cell_type": "code",
   "execution_count": null,
   "metadata": {},
   "outputs": [],
   "source": [
    "Plot two tetrode from the different recording"
   ]
  },
  {
   "cell_type": "code",
   "execution_count": null,
   "metadata": {},
   "outputs": [],
   "source": [
    "rate_map, x_bin, y_bin = hafting_data.plot_recording_tetr(recording_index=0,)  # Default tetrode will be the first in the list"
   ]
  },
  {
   "cell_type": "code",
   "execution_count": 33,
   "metadata": {},
   "outputs": [
    {
     "data": {
      "text/plain": [
       "(20, 200)"
      ]
     },
     "execution_count": 33,
     "metadata": {},
     "output_type": "execute_result"
    }
   ],
   "source": [
    "rate_map.shape"
   ]
  },
  {
   "cell_type": "code",
   "execution_count": 34,
   "metadata": {},
   "outputs": [
    {
     "data": {
      "image/png": "[encoded data removed]",
      "text/plain": [
       "<Figure size 800x600 with 2 Axes>"
      ]
     },
     "metadata": {},
     "output_type": "display_data"
    }
   ],
   "source": [
    "x, y, time_steps = hafting_data.plot_trajectory(recording_index=3)"
   ]
  },
  {
   "cell_type": "code",
   "execution_count": 36,
   "metadata": {},
   "outputs": [
    {
     "data": {
      "text/plain": [
       "(array([151.57280868, 151.57280868, 151.57280868, ..., -17.47555086,\n",
       "        -14.6580782 , -14.6580782 ]),\n",
       " array([-4.87141913, -4.40184036, -4.40184036, ...,  2.64184129,\n",
       "         3.58099884,  3.58099884]),\n",
       " array([0.00000e+00, 2.00000e-02, 4.00000e-02, ..., 1.19994e+03,\n",
       "        1.19996e+03, 1.19998e+03]))"
      ]
     },
     "execution_count": 36,
     "metadata": {},
     "output_type": "execute_result"
    }
   ],
   "source": [
    "x, y, time_steps"
   ]
  },
  {
   "cell_type": "markdown",
   "metadata": {},
   "source": [
    "# To Save \n"
   ]
  },
  {
   "cell_type": "markdown",
   "metadata": {},
   "source": [
    "To save the ploted figures as png add save_path to the methode. Bellow the name of the file will be recording_tetr_0, and saved in the current directory. "
   ]
  },
  {
   "cell_type": "code",
   "execution_count": 37,
   "metadata": {},
   "outputs": [
    {
     "data": {
      "image/png": "[encoded data removed]",
      "text/plain": [
       "<Figure size 1000x800 with 2 Axes>"
      ]
     },
     "metadata": {},
     "output_type": "display_data"
    }
   ],
   "source": [
    "save_path_local_0= './recording_0'\n",
    "rate_map, x_bin, y_bin = hafting_data.plot_recording_tetr(recording_index=0, save_path=save_path_local_0) \n",
    "# Default tetrode will be the first of the list \n",
    "\n"
   ]
  },
  {
   "cell_type": "markdown",
   "metadata": {},
   "source": [
    "Save plots from two different recordings"
   ]
  },
  {
   "cell_type": "code",
   "execution_count": 42,
   "metadata": {},
   "outputs": [
    {
     "data": {
      "image/png": "[encoded data removed]",
      "text/plain": [
       "<Figure size 1000x800 with 2 Axes>"
      ]
     },
     "metadata": {},
     "output_type": "display_data"
    },
    {
     "data": {
      "image/png": "[encoded data removed]",
      "text/plain": [
       "<Figure size 1000x800 with 2 Axes>"
      ]
     },
     "metadata": {},
     "output_type": "display_data"
    }
   ],
   "source": [
    "save_path_local_1= './recording_tetr_1'\n",
    "save_path_local_2= './recording_tetr_2'\n",
    "rate_map_1, rate_map_2 = hafting_data.plot_recording_tetr(recording_index=[1,2], save_path=[save_path_local_1,save_path_local_2])\n",
    "# Default tetrode will be the first of each recording list \n"
   ]
  },
  {
   "cell_type": "code",
   "execution_count": 44,
   "metadata": {},
   "outputs": [
    {
     "data": {
      "text/plain": [
       "(array([[2.37662626e+00, 2.85536740e+00, 3.96671722e+00, ...,\n",
       "         5.13810011e-02, 4.09573116e-02, 3.80119041e-02],\n",
       "        [2.76368736e+00, 3.37757367e+00, 4.76661305e+00, ...,\n",
       "         9.95365854e-02, 8.97167587e-02, 8.77447177e-02],\n",
       "        [3.17960905e+00, 3.98967672e+00, 5.76317245e+00, ...,\n",
       "         2.14325744e-01, 2.09287539e-01, 2.11385052e-01],\n",
       "        ...,\n",
       "        [1.44703679e-03, 3.65308760e-03, 9.71948992e-03, ...,\n",
       "         1.85465573e-02, 1.90702514e-02, 1.87016542e-02],\n",
       "        [3.54222129e-04, 9.23648022e-04, 2.55577354e-03, ...,\n",
       "         5.92933073e-03, 6.11615492e-03, 6.00580453e-03],\n",
       "        [7.81804426e-05, 2.13911064e-04, 6.24392271e-04, ...,\n",
       "         1.75491098e-03, 1.81703447e-03, 1.78788601e-03]]),\n",
       " array([-1.59926874e+02, -1.58328381e+02, -1.56729889e+02, -1.55131397e+02,\n",
       "        -1.53532905e+02, -1.51934413e+02, -1.50335921e+02, -1.48737429e+02,\n",
       "        -1.47138937e+02, -1.45540445e+02, -1.43941953e+02, -1.42343461e+02,\n",
       "        -1.40744969e+02, -1.39146477e+02, -1.37547985e+02, -1.35949493e+02,\n",
       "        -1.34351001e+02, -1.32752509e+02, -1.31154017e+02, -1.29555525e+02,\n",
       "        -1.27957033e+02, -1.26358540e+02, -1.24760048e+02, -1.23161556e+02,\n",
       "        -1.21563064e+02, -1.19964572e+02, -1.18366080e+02, -1.16767588e+02,\n",
       "        -1.15169096e+02, -1.13570604e+02, -1.11972112e+02, -1.10373620e+02,\n",
       "        -1.08775128e+02, -1.07176636e+02, -1.05578144e+02, -1.03979652e+02,\n",
       "        -1.02381160e+02, -1.00782668e+02, -9.91841756e+01, -9.75856836e+01,\n",
       "        -9.59871915e+01, -9.43886995e+01, -9.27902074e+01, -9.11917154e+01,\n",
       "        -8.95932233e+01, -8.79947313e+01, -8.63962392e+01, -8.47977472e+01,\n",
       "        -8.31992551e+01, -8.16007631e+01, -8.00022710e+01, -7.84037790e+01,\n",
       "        -7.68052869e+01, -7.52067949e+01, -7.36083028e+01, -7.20098108e+01,\n",
       "        -7.04113187e+01, -6.88128267e+01, -6.72143346e+01, -6.56158426e+01,\n",
       "        -6.40173505e+01, -6.24188585e+01, -6.08203664e+01, -5.92218744e+01,\n",
       "        -5.76233823e+01, -5.60248903e+01, -5.44263982e+01, -5.28279062e+01,\n",
       "        -5.12294141e+01, -4.96309221e+01, -4.80324300e+01, -4.64339380e+01,\n",
       "        -4.48354459e+01, -4.32369539e+01, -4.16384618e+01, -4.00399698e+01,\n",
       "        -3.84414777e+01, -3.68429857e+01, -3.52444936e+01, -3.36460016e+01,\n",
       "        -3.20475095e+01, -3.04490175e+01, -2.88505254e+01, -2.72520334e+01,\n",
       "        -2.56535413e+01, -2.40550493e+01, -2.24565572e+01, -2.08580651e+01,\n",
       "        -1.92595731e+01, -1.76610810e+01, -1.60625890e+01, -1.44640969e+01,\n",
       "        -1.28656049e+01, -1.12671128e+01, -9.66862080e+00, -8.07012875e+00,\n",
       "        -6.47163669e+00, -4.87314464e+00, -3.27465259e+00, -1.67616054e+00,\n",
       "        -7.76684925e-02,  1.52082356e+00,  3.11931561e+00,  4.71780766e+00,\n",
       "         6.31629971e+00,  7.91479176e+00,  9.51328381e+00,  1.11117759e+01,\n",
       "         1.27102679e+01,  1.43087600e+01,  1.59072520e+01,  1.75057441e+01,\n",
       "         1.91042361e+01,  2.07027282e+01,  2.23012202e+01,  2.38997123e+01,\n",
       "         2.54982043e+01,  2.70966964e+01,  2.86951884e+01,  3.02936805e+01,\n",
       "         3.18921725e+01,  3.34906646e+01,  3.50891566e+01,  3.66876487e+01,\n",
       "         3.82861407e+01,  3.98846328e+01,  4.14831248e+01,  4.30816169e+01,\n",
       "         4.46801089e+01,  4.62786010e+01,  4.78770930e+01,  4.94755851e+01,\n",
       "         5.10740771e+01,  5.26725692e+01,  5.42710612e+01,  5.58695533e+01,\n",
       "         5.74680453e+01,  5.90665374e+01,  6.06650294e+01,  6.22635215e+01,\n",
       "         6.38620135e+01,  6.54605056e+01,  6.70589976e+01,  6.86574897e+01,\n",
       "         7.02559817e+01,  7.18544738e+01,  7.34529658e+01,  7.50514579e+01,\n",
       "         7.66499499e+01,  7.82484420e+01,  7.98469340e+01,  8.14454261e+01,\n",
       "         8.30439181e+01,  8.46424102e+01,  8.62409022e+01,  8.78393943e+01,\n",
       "         8.94378863e+01,  9.10363784e+01,  9.26348704e+01,  9.42333625e+01,\n",
       "         9.58318545e+01,  9.74303466e+01,  9.90288386e+01,  1.00627331e+02,\n",
       "         1.02225823e+02,  1.03824315e+02,  1.05422807e+02,  1.07021299e+02,\n",
       "         1.08619791e+02,  1.10218283e+02,  1.11816775e+02,  1.13415267e+02,\n",
       "         1.15013759e+02,  1.16612251e+02,  1.18210743e+02,  1.19809235e+02,\n",
       "         1.21407727e+02,  1.23006219e+02,  1.24604711e+02,  1.26203203e+02,\n",
       "         1.27801696e+02,  1.29400188e+02,  1.30998680e+02,  1.32597172e+02,\n",
       "         1.34195664e+02,  1.35794156e+02,  1.37392648e+02,  1.38991140e+02,\n",
       "         1.40589632e+02,  1.42188124e+02,  1.43786616e+02,  1.45385108e+02,\n",
       "         1.46983600e+02,  1.48582092e+02,  1.50180584e+02,  1.51779076e+02,\n",
       "         1.53377568e+02,  1.54976060e+02,  1.56574552e+02,  1.58173045e+02,\n",
       "         1.59771537e+02]),\n",
       " array([-12.69276618, -11.17272574,  -9.6526853 ,  -8.13264485,\n",
       "         -6.61260441,  -5.09256397,  -3.57252353,  -2.05248309,\n",
       "         -0.53244264,   0.9875978 ,   2.50763824,   4.02767868,\n",
       "          5.54771913,   7.06775957,   8.58780001,  10.10784045,\n",
       "         11.62788089,  13.14792134,  14.66796178,  16.18800222,\n",
       "         17.70804266]))"
      ]
     },
     "execution_count": 44,
     "metadata": {},
     "output_type": "execute_result"
    }
   ],
   "source": []
  },
  {
   "cell_type": "code",
   "execution_count": null,
   "metadata": {},
   "outputs": [],
   "source": [
    "hafting_data.plot_trajectory(recording_index=1,save_path= \"./recording_tetr_0.png\")"
   ]
  },
  {
   "cell_type": "markdown",
   "metadata": {},
   "source": [
    "## Other experiments\n",
    "\n",
    "Other available experiment implemented with the same methods are\n",
    "- *Conjunctive Representation of Position, Direction, and Velocity in Entorhinal Cortex*, Sargolini et al 2006 (https://www.science.org/doi/10.1126/science.1125572)\n",
    "- *Integration of grid maps in merged environments*, Wernle et al. 2018 (https://www.nature.com/articles/s41593-017-0036-6)\n",
    "\n",
    "Sargolini2006 works in the same way as Hafting2008"
   ]
  },
  {
   "cell_type": "code",
   "execution_count": null,
   "metadata": {},
   "outputs": [],
   "source": [
    "from neuralplayground.experiments import Sargolini2006Data, Wernle2018Data"
   ]
  },
  {
   "cell_type": "code",
   "execution_count": null,
   "metadata": {},
   "outputs": [],
   "source": [
    "sargolini_data = Sargolini2006Data(verbose=True)"
   ]
  },
  {
   "cell_type": "code",
   "execution_count": null,
   "metadata": {},
   "outputs": [],
   "source": [
    "sargolini_data.data_path"
   ]
  },
  {
   "cell_type": "code",
   "execution_count": null,
   "metadata": {},
   "outputs": [],
   "source": [
    "recording_list = sargolini_data.show_data(full_dataframe=False)"
   ]
  },
  {
   "cell_type": "code",
   "execution_count": null,
   "metadata": {},
   "outputs": [],
   "source": [
    "recorded_data = sargolini_data.get_recording_data(recording_index=[1, 2])"
   ]
  },
  {
   "cell_type": "code",
   "execution_count": null,
   "metadata": {
    "scrolled": false
   },
   "outputs": [],
   "source": [
    " recorded_data  # Same as before"
   ]
  },
  {
   "cell_type": "code",
   "execution_count": null,
   "metadata": {
    "scrolled": false
   },
   "outputs": [],
   "source": [
    "rate_map, x_bin, y_bin = sargolini_data.plot_recording_tetr(recording_index=2)#, tetrode_id=\"T6C1\")"
   ]
  },
  {
   "cell_type": "code",
   "execution_count": null,
   "metadata": {},
   "outputs": [],
   "source": [
    "recoring_tetr_list = sargolini_data.plot_recording_tetr(recording_index=[2, 3])"
   ]
  },
  {
   "cell_type": "code",
   "execution_count": null,
   "metadata": {},
   "outputs": [],
   "source": [
    "x, y, time_steps = sargolini_data.plot_trajectory(recording_index=3, plot_every=5)  # Plot every 5 to make the plot lighter"
   ]
  },
  {
   "cell_type": "markdown",
   "metadata": {},
   "source": [
    "## Wernle et al. 2018 is slightly different..\n",
    "\n",
    "The recording list from the data have 19 different animals, and each of the animals is recorded before and after merging the room. These recordings correspond to the first 38 (19x2) recording indexes in the recording list as shown below"
   ]
  },
  {
   "cell_type": "code",
   "execution_count": null,
   "metadata": {},
   "outputs": [],
   "source": [
    "w_data = Wernle2018Data()"
   ]
  },
  {
   "cell_type": "code",
   "execution_count": null,
   "metadata": {
    "scrolled": true
   },
   "outputs": [],
   "source": [
    "recording_list = w_data.show_data(full_dataframe=False)"
   ]
  },
  {
   "cell_type": "code",
   "execution_count": null,
   "metadata": {},
   "outputs": [],
   "source": [
    "recording_list.iloc[0:38]"
   ]
  },
  {
   "cell_type": "markdown",
   "metadata": {},
   "source": [
    "The rest of the recordings are just the ratemaps, which are just ratemaps before an after merging rooms"
   ]
  },
  {
   "cell_type": "code",
   "execution_count": null,
   "metadata": {},
   "outputs": [],
   "source": [
    "full_recorded_data = w_data.get_recording_data(recording_index=[2, 3])"
   ]
  },
  {
   "cell_type": "code",
   "execution_count": null,
   "metadata": {
    "scrolled": false
   },
   "outputs": [],
   "source": [
    "recorded_data"
   ]
  },
  {
   "cell_type": "code",
   "execution_count": null,
   "metadata": {},
   "outputs": [],
   "source": [
    "ratemaps = w_data.get_recording_data(recording_index=[100, 101])"
   ]
  },
  {
   "cell_type": "code",
   "execution_count": null,
   "metadata": {},
   "outputs": [],
   "source": [
    "ratemaps"
   ]
  },
  {
   "cell_type": "code",
   "execution_count": null,
   "metadata": {},
   "outputs": [],
   "source": [
    "w_data.plot_recording_tetr(290), w_data.plot_recording_tetr(291)"
   ]
  },
  {
   "cell_type": "code",
   "execution_count": null,
   "metadata": {},
   "outputs": [],
   "source": [
    "w_data.plot_trajectory(1)"
   ]
  },
  {
   "cell_type": "code",
   "execution_count": null,
   "metadata": {
    "scrolled": false
   },
   "outputs": [],
   "source": [
    "w_data.plot_merging_comparison(session_index=(100, 125, 126, 127))"
   ]
  },
  {
   "cell_type": "code",
   "execution_count": null,
   "metadata": {},
   "outputs": [],
   "source": [
    "w_data.plot_development(merged=False, time_interval=(0, 10))"
   ]
  },
  {
   "cell_type": "code",
   "execution_count": null,
   "metadata": {},
   "outputs": [],
   "source": [
    "w_data.plot_development(merged=True, time_interval=(0, 10))"
   ]
  },
  {
   "cell_type": "code",
   "execution_count": null,
   "metadata": {},
   "outputs": [],
   "source": [
    "f, ax = plt.subplots(4, 6, figsize=(4*6, 4*4))\n",
    "for j in range(4):\n",
    "    spikes = w_data.spikes_AB[j+5, 0][:, 0]\n",
    "    pos = w_data.pos_AB[j+5, 0]\n",
    "    ratemap = OnlineRateMap(spikes=spikes, position=pos, size=(100, 100))\n",
    "    for i in range(6):\n",
    "        rm = ratemap.update_ratemap(dt=5*60, interp_factor=1)\n",
    "        ax[j, i].imshow(rm, cmap=\"jet\")\n",
    "\n",
    "plt.show()"
   ]
  },
  {
   "cell_type": "code",
   "execution_count": null,
   "metadata": {},
   "outputs": [],
   "source": []
  }
 ],
 "metadata": {
  "kernelspec": {
   "display_name": "Python 3 (ipykernel)",
   "language": "python",
   "name": "python3"
  },
  "language_info": {
   "codemirror_mode": {
    "name": "ipython",
    "version": 3
   },
   "file_extension": ".py",
   "mimetype": "text/x-python",
   "name": "python",
   "nbconvert_exporter": "python",
   "pygments_lexer": "ipython3",
   "version": "3.11.0"
  }
 },
 "nbformat": 4,
 "nbformat_minor": 4
}
