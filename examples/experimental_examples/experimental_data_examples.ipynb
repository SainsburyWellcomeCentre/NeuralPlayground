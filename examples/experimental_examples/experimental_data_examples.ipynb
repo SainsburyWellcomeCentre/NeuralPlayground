{
 "cells": [
  {
   "cell_type": "markdown",
   "metadata": {},
   "source": [
    "# Experiment Class Examples"
   ]
  },
  {
   "cell_type": "markdown",
   "metadata": {},
   "source": [
    "## In this notbook we provide easy example on how access to the experimental results such as neural recording, behaviours, etc... \n",
    "\n",
    "Each of the classes listed below are designed to load the data from their respective experiment. \n",
    "The classes have methods to allow easy access to the data, and some plot methods to see neural recordings and animal trajectories."
   ]
  },
  {
   "cell_type": "markdown",
   "metadata": {},
   "source": [
    "Let's start with *Hippocampus-independent phase precession in entorhinal grid cells* by Hafting et al 2008 (https://www.nature.com/articles/nature06957)"
   ]
  },
  {
   "cell_type": "code",
   "execution_count": 1,
   "metadata": {},
   "outputs": [
    {
     "ename": "SyntaxError",
     "evalue": "invalid syntax (plot_config.py, line 42)",
     "output_type": "error",
     "traceback": [
      "Traceback \u001b[0;36m(most recent call last)\u001b[0m:\n",
      "\u001b[0m  File \u001b[1;32m~/miniconda3/envs/NPG/lib/python3.11/site-packages/IPython/core/interactiveshell.py:3508\u001b[0m in \u001b[1;35mrun_code\u001b[0m\n    exec(code_obj, self.user_global_ns, self.user_ns)\u001b[0m\n",
      "\u001b[0m  Cell \u001b[1;32mIn[1], line 1\u001b[0m\n    from neuralplayground.experiments import Hafting2008Data\u001b[0m\n",
      "\u001b[0m  File \u001b[1;32m~/Documents/UCL/lectures/NeuralPlayground/neuralplayground/__init__.py:13\u001b[0m\n    from .config import generate_config_file\u001b[0m\n",
      "\u001b[0;36m  File \u001b[0;32m~/Documents/UCL/lectures/NeuralPlayground/neuralplayground/config/__init__.py:1\u001b[0;36m\n\u001b[0;31m    from .plot_config import PlotsConfig\u001b[0;36m\n",
      "\u001b[0;36m  File \u001b[0;32m~/Documents/UCL/lectures/NeuralPlayground/neuralplayground/config/plot_config.py:42\u001b[0;36m\u001b[0m\n\u001b[0;31m    self.EXTERNAL_WALL_COLOR  kwargs[\"external_wall_color\"]\u001b[0m\n\u001b[0m                              ^\u001b[0m\n\u001b[0;31mSyntaxError\u001b[0m\u001b[0;31m:\u001b[0m invalid syntax\n"
     ]
    }
   ],
   "source": [
    "from neuralplayground.experiments import Hafting2008Data\n",
    "from neuralplayground.utils import OnlineRateMap"
   ]
  },
  {
   "cell_type": "code",
   "execution_count": null,
   "metadata": {},
   "outputs": [],
   "source": [
    "from IPython.display import display, HTML\n",
    "display(HTML(\"<style>.container { width:80% !important; }</style>\"))\n",
    "import numpy as np\n",
    "import matplotlib.pyplot as plt"
   ]
  },
  {
   "cell_type": "markdown",
   "metadata": {},
   "source": [
    "Part of the data is already loaded in the repo. You can initialize the class with \n",
    "\n",
    "```verbose = True``` \n",
    "\n",
    "to print the original readme written by the authors describing the dataset, and a list of the recordings"
   ]
  },
  {
   "cell_type": "code",
   "execution_count": null,
   "metadata": {},
   "outputs": [],
   "source": [
    "hafting_data = Hafting2008Data(verbose=False)"
   ]
  },
  {
   "cell_type": "markdown",
   "metadata": {},
   "source": [
    "If you want access to the whole dataset, download the data from https://archive.norstore.no/pages/public/datasetDetail.jsf?id=C43035A4-5CC5-44F2-B207-126922523FD9 and add it to the path with the rest of the data for the given class. You can get the path of the data by running"
   ]
  },
  {
   "cell_type": "code",
   "execution_count": null,
   "metadata": {},
   "outputs": [],
   "source": [
    "hafting_data.data_path"
   ]
  },
  {
   "cell_type": "markdown",
   "metadata": {},
   "source": [
    "The class already loaded the data from the original format and organized it. The available data is added to a dataframe of the form"
   ]
  },
  {
   "cell_type": "code",
   "execution_count": null,
   "metadata": {},
   "outputs": [],
   "source": [
    "recording_list = hafting_data.show_data(full_dataframe=False)  # full_datagrame = true will show everything available"
   ]
  },
  {
   "cell_type": "markdown",
   "metadata": {},
   "source": [
    "Each of the recordings has a rat_id, session id, and the recorded variables you have access to. You can ask for a description from the authors by asking for the data readme (or initialize the class with verbosity)"
   ]
  },
  {
   "cell_type": "code",
   "execution_count": null,
   "metadata": {},
   "outputs": [],
   "source": [
    "hafting_data.show_readme()"
   ]
  },
  {
   "cell_type": "markdown",
   "metadata": {},
   "source": [
    "Now, to have access to the data, you just need to specify a recording index (if the recording index is not given, it will give a nice default one), or a list of recording index as follows"
   ]
  },
  {
   "cell_type": "code",
   "execution_count": null,
   "metadata": {
    "scrolled": true
   },
   "outputs": [],
   "source": [
    "recorded_data = hafting_data.get_recording_data(recording_index=[1, 2])"
   ]
  },
  {
   "cell_type": "markdown",
   "metadata": {},
   "source": [
    "```recorded_data``` will be a list with the information for each of the requested recordings. The first component of the list is a dictionary with the raw data, the second is a list of the recorded variables, and the third is a dictionary with the session information. Each of the dictionaries have the keys listed in the ```recorded_vars```, so you have access to those. For example, you can access the position of the mouse of the recording index 2 by running"
   ]
  },
  {
   "cell_type": "code",
   "execution_count": null,
   "metadata": {},
   "outputs": [],
   "source": [
    "recording_index1 = recorded_data[1]  # Data from recording index 2\n",
    "dictionary_with_data = recording_index1[0]"
   ]
  },
  {
   "cell_type": "code",
   "execution_count": null,
   "metadata": {},
   "outputs": [],
   "source": [
    "dictionary_with_data.keys()"
   ]
  },
  {
   "cell_type": "code",
   "execution_count": null,
   "metadata": {},
   "outputs": [],
   "source": [
    "dictionary_with_data[\"position\"]"
   ]
  },
  {
   "cell_type": "code",
   "execution_count": null,
   "metadata": {},
   "outputs": [],
   "source": [
    "recording_index1[1], recording_index1[2]  # This are the recorded variables, and the session information for the given index"
   ]
  },
  {
   "cell_type": "markdown",
   "metadata": {},
   "source": [
    "## Plotting data\n",
    "There are two built in plotting methods from the class ```plot_recording_tetr``` and ```plot_trajectory```. Both of these functions receive a recording index, or a list of recording index. For the plot of the neural recording, you can also specify which tetrode you want. The plotting methods will also return the data used to make the plot. For example, the session ith recording index 3 has 3 different tetrode recording for the same session. Let's plot one of the specific tetrodes with its corresponding behavioral data."
   ]
  },
  {
   "cell_type": "code",
   "execution_count": null,
   "metadata": {},
   "outputs": [],
   "source": [
    "recording_list.iloc[3]"
   ]
  },
  {
   "cell_type": "code",
   "execution_count": null,
   "metadata": {},
   "outputs": [],
   "source": [
    "rate_map, x_bin, y_bin = hafting_data.plot_recording_tetr(recording_index=0) # Default tetrode will be the first in the list"
   ]
  },
  {
   "cell_type": "code",
   "execution_count": null,
   "metadata": {},
   "outputs": [],
   "source": [
    "rate_map.shape\n"
   ]
  },
  {
   "cell_type": "code",
   "execution_count": null,
   "metadata": {},
   "outputs": [],
   "source": [
    "x, y, time_steps = hafting_data.plot_trajectory(recording_index=3)\n"
   ]
  },
  {
   "cell_type": "code",
   "execution_count": null,
   "metadata": {},
   "outputs": [],
   "source": [
    "x, y, time_steps"
   ]
  },
  {
   "cell_type": "markdown",
   "metadata": {},
   "source": [
    "Plot two tetrode from the same recording. The output will be a tuple size two with the rate_map, x_bin, y_bin of each tetrode."
   ]
  },
  {
   "cell_type": "code",
   "execution_count": null,
   "metadata": {},
   "outputs": [],
   "source": [
    "rate_map_t3c2, rate_map_t7c1=hafting_data.plot_recording_tetr(recording_index=[2, 2], tetrode_id=[\"t3c2\", \"t7c1\"]) # Default tetrode will be the first in the list"
   ]
  },
  {
   "cell_type": "markdown",
   "metadata": {},
   "source": [
    "Plot two tetrodes from the different recording. The output will be a tuple size two with the rate_map, x_bin, y_bin of the first tetrode of each recording."
   ]
  },
  {
   "cell_type": "code",
   "execution_count": null,
   "metadata": {},
   "outputs": [],
   "source": [
    "rate_map_rec1, rate_map_rec2 = hafting_data.plot_recording_tetr(recording_index=[1,2])\n"
   ]
  },
  {
   "cell_type": "markdown",
   "metadata": {},
   "source": [
    "# To Save \n"
   ]
  },
  {
   "cell_type": "markdown",
   "metadata": {},
   "source": [
    "To save the ploted figures as png add save_path to the methode. Bellow the name of the file will be recording_tetr_0, and saved in the current directory. "
   ]
  },
  {
   "cell_type": "code",
   "execution_count": null,
   "metadata": {},
   "outputs": [],
   "source": [
    "save_path_local_0= './recording_0'\n",
    "rate_map, x_bin, y_bin = hafting_data.plot_recording_tetr(recording_index=0, save_path=save_path_local_0) \n",
    "# Default tetrode will be the first of the list \n"
   ]
  },
  {
   "cell_type": "markdown",
   "metadata": {},
   "source": [
    "Save plots from two different recordings"
   ]
  },
  {
   "cell_type": "code",
   "execution_count": null,
   "metadata": {},
   "outputs": [],
   "source": [
    "save_path_local_1= './recording_tetr_1'\n",
    "save_path_local_2= './recording_tetr_2'\n",
    "rate_map_1, rate_map_2 = hafting_data.plot_recording_tetr(recording_index=[1,2], save_path=[save_path_local_1,save_path_local_2])\n",
    "# Default tetrode will be the first of each recording list \n"
   ]
  },
  {
   "cell_type": "markdown",
   "metadata": {},
   "source": [
    "Save trajectory plots"
   ]
  },
  {
   "cell_type": "code",
   "execution_count": null,
   "metadata": {},
   "outputs": [],
   "source": [
    "hafting_data.plot_trajectory(recording_index=1,save_path= \"./recording_traj_1.png\")"
   ]
  },
  {
   "cell_type": "markdown",
   "metadata": {},
   "source": [
    "## Other experiments\n",
    "\n",
    "Other available experiment implemented with the same methods are\n",
    "- *Conjunctive Representation of Position, Direction, and Velocity in Entorhinal Cortex*, Sargolini et al 2006 (https://www.science.org/doi/10.1126/science.1125572)\n",
    "- *Integration of grid maps in merged environments*, Wernle et al. 2018 (https://www.nature.com/articles/s41593-017-0036-6)\n",
    "\n",
    "Sargolini2006 works in the same way as Hafting2008"
   ]
  },
  {
   "cell_type": "code",
   "execution_count": null,
   "metadata": {},
   "outputs": [],
   "source": [
    "from neuralplayground.experiments import Sargolini2006Data, Wernle2018Data"
   ]
  },
  {
   "cell_type": "code",
   "execution_count": null,
   "metadata": {},
   "outputs": [],
   "source": [
    "sargolini_data = Sargolini2006Data(verbose=True)"
   ]
  },
  {
   "cell_type": "code",
   "execution_count": null,
   "metadata": {},
   "outputs": [],
   "source": [
    "sargolini_data.data_path"
   ]
  },
  {
   "cell_type": "code",
   "execution_count": null,
   "metadata": {},
   "outputs": [],
   "source": [
    "recording_list = sargolini_data.show_data(full_dataframe=False)"
   ]
  },
  {
   "cell_type": "code",
   "execution_count": null,
   "metadata": {},
   "outputs": [],
   "source": [
    "recorded_data = sargolini_data.get_recording_data(recording_index=[1, 2])"
   ]
  },
  {
   "cell_type": "code",
   "execution_count": null,
   "metadata": {},
   "outputs": [],
   "source": [
    " recorded_data  # Same as before"
   ]
  },
  {
   "cell_type": "code",
   "execution_count": null,
   "metadata": {},
   "outputs": [],
   "source": [
    "rate_map, x_bin, y_bin = sargolini_data.plot_recording_tetr(recording_index=2)#, tetrode_id=\"T6C1\")"
   ]
  },
  {
   "cell_type": "code",
   "execution_count": null,
   "metadata": {},
   "outputs": [],
   "source": [
    "recoring_tetr_list = sargolini_data.plot_recording_tetr(recording_index=[2, 3])\n"
   ]
  },
  {
   "cell_type": "code",
   "execution_count": null,
   "metadata": {},
   "outputs": [],
   "source": [
    "x, y, time_steps = sargolini_data.plot_trajectory(recording_index=3, plot_every=5)  # Plot every 5 to make the plot lighter"
   ]
  },
  {
   "cell_type": "markdown",
   "metadata": {},
   "source": [
    "## Wernle et al. 2018 is slightly different..\n",
    "\n",
    "The recording list from the data have 19 different animals, and each of the animals is recorded before and after merging the room. These recordings correspond to the first 38 (19x2) recording indexes in the recording list as shown below"
   ]
  },
  {
   "cell_type": "code",
   "execution_count": null,
   "metadata": {},
   "outputs": [],
   "source": [
    "w_data = Wernle2018Data()"
   ]
  },
  {
   "cell_type": "code",
   "execution_count": null,
   "metadata": {
    "scrolled": true
   },
   "outputs": [],
   "source": [
    "recording_list = w_data.show_data(full_dataframe=False)"
   ]
  },
  {
   "cell_type": "code",
   "execution_count": null,
   "metadata": {},
   "outputs": [],
   "source": [
    "recording_list.iloc[0:42]"
   ]
  },
  {
   "cell_type": "markdown",
   "metadata": {},
   "source": [
    "The rest of the recordings are just the ratemaps, which are just ratemaps before an after merging rooms"
   ]
  },
  {
   "cell_type": "code",
   "execution_count": null,
   "metadata": {},
   "outputs": [],
   "source": [
    "full_recorded_data = w_data.get_recording_data(recording_index=[2, 3])"
   ]
  },
  {
   "cell_type": "code",
   "execution_count": null,
   "metadata": {},
   "outputs": [],
   "source": [
    "recorded_data"
   ]
  },
  {
   "cell_type": "code",
   "execution_count": null,
   "metadata": {},
   "outputs": [],
   "source": [
    "ratemaps = w_data.get_recording_data(recording_index=[100, 101])"
   ]
  },
  {
   "cell_type": "code",
   "execution_count": null,
   "metadata": {},
   "outputs": [],
   "source": [
    "ratemaps"
   ]
  },
  {
   "cell_type": "code",
   "execution_count": null,
   "metadata": {},
   "outputs": [],
   "source": [
    "w_data.plot_recording_tetr(40,save_path ='./tetrode_before_merge'), w_data.plot_recording_tetr(41,save_path ='./tetrode_after_merge')"
   ]
  },
  {
   "cell_type": "code",
   "execution_count": null,
   "metadata": {},
   "outputs": [],
   "source": [
    "w_data.plot_trajectory(2, save_path ='./trajectory_after_merge')"
   ]
  },
  {
   "cell_type": "code",
   "execution_count": null,
   "metadata": {},
   "outputs": [],
   "source": [
    "w_data.plot_trajectory(3, save_path ='./trajectory_before_merge')"
   ]
  },
  {
   "cell_type": "code",
   "execution_count": null,
   "metadata": {},
   "outputs": [],
   "source": [
    "w_data.plot_merging_comparison(session_index=(100, 125, 126, 127))"
   ]
  },
  {
   "cell_type": "code",
   "execution_count": null,
   "metadata": {},
   "outputs": [],
   "source": []
  },
  {
   "cell_type": "code",
   "execution_count": null,
   "metadata": {},
   "outputs": [],
   "source": []
  },
  {
   "cell_type": "code",
   "execution_count": null,
   "metadata": {},
   "outputs": [],
   "source": [
    "f, ax = plt.subplots(4, 6, figsize=(4*6, 4*4))\n",
    "for j in range(4):\n",
    "    spikes = w_data.spikes_AB[j+5, 0][:, 0]\n",
    "    pos = w_data.pos_AB[j+5, 0]\n",
    "    ratemap = OnlineRateMap(spikes=spikes, position=pos, size=(100, 100))\n",
    "    for i in range(6):\n",
    "        rm = ratemap.update_ratemap(dt=5*60, interp_factor=1)\n",
    "        ax[j, i].imshow(rm, cmap=\"jet\")\n",
    "\n",
    "plt.show()"
   ]
  },
  {
   "cell_type": "code",
   "execution_count": null,
   "metadata": {},
   "outputs": [],
   "source": []
  },
  {
   "cell_type": "code",
   "execution_count": null,
   "metadata": {},
   "outputs": [],
   "source": []
  },
  {
   "cell_type": "code",
   "execution_count": null,
   "metadata": {},
   "outputs": [],
   "source": []
  }
 ],
 "metadata": {
  "kernelspec": {
   "display_name": "Python 3 (ipykernel)",
   "language": "python",
   "name": "python3"
  },
  "language_info": {
   "codemirror_mode": {
    "name": "ipython",
    "version": 3
   },
   "file_extension": ".py",
   "mimetype": "text/x-python",
   "name": "python",
   "nbconvert_exporter": "python",
   "pygments_lexer": "ipython3",
   "version": "3.11.3"
  }
 },
 "nbformat": 4,
 "nbformat_minor": 4
}
