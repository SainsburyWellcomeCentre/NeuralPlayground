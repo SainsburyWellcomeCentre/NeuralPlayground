{
 "cells": [
  {
   "cell_type": "markdown",
   "id": "5b37a69f",
   "metadata": {},
   "source": [
    "# Simulation Manager\n",
    "\n",
    "In this example notebook, we will use the simulation manager tool available in NeuralPlayground. The purpose of this tool is the following:\n",
    "- Run multiple instantiations of model and environments, saved in an organized manner, logging trained agents, error logs, etc…\n",
    "- Keep track of the status of each run.\n",
    "- Access to a default set of simulations that can be easily modified or augmented with new models and environments. \n",
    "- The results from the simulations can be used with the comparison tool, for quick visualization of results.\n",
    "\n",
    "\n",
    "## SingleSim\n",
    "We will start by describing the class that manages single agent-arena pairs, called SingleSim. Objects from this class take the simulation parameters, and it can run the simulation and save the results on the path given by the user, taking care of saving trained agents, simulation parameters, run status, and error logs. \n",
    "\n",
    "First, let's import SR model, a Simple2D arena, and a training loop function that describes the interaction of the agent with the arena."
   ]
  },
  {
   "cell_type": "code",
   "execution_count": 1,
   "id": "55904f45-6f76-4fc5-bb3f-5527191d4e67",
   "metadata": {},
   "outputs": [],
   "source": [
    "from neuralplayground.agents import Stachenfeld2018\n",
    "from neuralplayground.arenas import Simple2D\n",
    "from neuralplayground.backend import episode_based_training_loop\n",
    "\n",
    "from neuralplayground.backend import SingleSim"
   ]
  },
  {
   "cell_type": "markdown",
   "id": "d76578e9-97c5-4c2f-bd6b-f6fe06a29026",
   "metadata": {},
   "source": [
    "Now, let's define the parameters of each element we imported. The SingleSim objects takes the following arguments"
   ]
  },
  {
   "cell_type": "code",
   "execution_count": 2,
   "id": "5afc3716-ee68-43d6-9b27-4e289c2c2993",
   "metadata": {},
   "outputs": [],
   "source": [
    "simulation_id = \"SR_custom_sim\"\n",
    "agent_class = Stachenfeld2018\n",
    "env_class = Simple2D\n",
    "training_loop = episode_based_training_loop\n",
    "\n",
    "# Specific parameters for agents, environments and training loop can be written as dictionaries\n",
    "agent_params = {\"discount\": 0.99,\n",
    "                \"threshold\": 1e-6,\n",
    "                \"lr_td\": 1e-2,\n",
    "                \"state_density\": 1,\n",
    "                \"room_width\": 12,\n",
    "                \"room_depth\": 12,\n",
    "                \"twoD\": True}\n",
    "\n",
    "env_params = {\"arena_x_limits\": [-6, 6],\n",
    "              \"arena_y_limits\": [-6, 6],\n",
    "              \"env_name\": \"env_example\",\n",
    "              \"time_step_size\": 0.2,\n",
    "              \"agent_step_size\": 1}\n",
    "\n",
    "# Short training just for demonstration\n",
    "training_loop_params = {\"t_episode\": 100, \"n_episode\": 10}"
   ]
  },
  {
   "cell_type": "markdown",
   "id": "2fa407f6-4ef6-429f-bac3-507f76f8f67b",
   "metadata": {},
   "source": [
    "We initialize the SingleSim object"
   ]
  },
  {
   "cell_type": "code",
   "execution_count": 3,
   "id": "a0cf14eb",
   "metadata": {},
   "outputs": [],
   "source": [
    "sim = SingleSim(simulation_id = simulation_id,\n",
    "                agent_class = agent_class,\n",
    "                agent_params = agent_params,\n",
    "                env_class = env_class,\n",
    "                env_params = env_params,\n",
    "                training_loop = training_loop,\n",
    "                training_loop_params = training_loop_params)"
   ]
  },
  {
   "cell_type": "code",
   "execution_count": 4,
   "id": "d4987975-eeb7-42a3-8898-17247d96de25",
   "metadata": {},
   "outputs": [
    {
     "name": "stdout",
     "output_type": "stream",
     "text": [
      "Simulation: SR_custom_sim\n",
      "Agent: <class 'neuralplayground.agents.stachenfeld_2018.Stachenfeld2018'>\n",
      "Agent params: {'discount': 0.99, 'threshold': 1e-06, 'lr_td': 0.01, 'state_density': 1, 'room_width': 12, 'room_depth': 12, 'twoD': True}\n",
      "Environment: <class 'neuralplayground.arenas.simple2d.Simple2D'>\n",
      "Environment params: {'arena_x_limits': [-6, 6], 'arena_y_limits': [-6, 6], 'env_name': 'env_example', 'time_step_size': 0.2, 'agent_step_size': 1}\n",
      "Training loop: <function episode_based_training_loop at 0x7fe155d96520>\n",
      "Training loop params: {'t_episode': 100, 'n_episode': 10}\n",
      "\n"
     ]
    }
   ],
   "source": [
    "print(sim)"
   ]
  },
  {
   "cell_type": "code",
   "execution_count": 5,
   "id": "5dbe4412-1142-4369-ae21-e3e6321b89d4",
   "metadata": {},
   "outputs": [],
   "source": [
    "sim.run_sim()"
   ]
  },
  {
   "cell_type": "markdown",
   "id": "c99e3202-3cbc-4cb5-aeec-87ede70db98a",
   "metadata": {},
   "source": [
    "When running a simulation, the results will be saved in ```results_sim``` in the working directory by default. Every simulation result folder should contain:\n",
    "agent: Trained agent object.\n",
    "arena: Arena object used to train the agent.\n",
    "training_hist.dict: A dictionary with variables returned by the train loop on each iteration.\n",
    "param.dict: Simulation parameters.\n",
    "run.log: Any outputs printed by agents, environments, or training loop during training.\n",
    "error.log: Same as run.log but with errors.\n",
    "state.log: Used with keywords to keep track of the running status of the simulation.\n",
    "\n",
    "So far, when the user runs the simulation calling ```run_sim```, the run will stop if there is an error in the code and will be printed directly on the default output. The logs were made for the simulation manager described later.\n",
    "\n",
    "You can load the results of the specific run using ```load_results``` method, getting the trained agent, environment and training history.\n"
   ]
  },
  {
   "cell_type": "code",
   "execution_count": 6,
   "id": "98aaca64-039c-4f09-a91d-a5ffe673f52a",
   "metadata": {},
   "outputs": [],
   "source": [
    "trained_agent, env, training_hist = sim.load_results()"
   ]
  },
  {
   "cell_type": "code",
   "execution_count": 7,
   "id": "1c85ffbc-bdfc-426f-8456-1e1080aa24db",
   "metadata": {},
   "outputs": [
    {
     "name": "stdout",
     "output_type": "stream",
     "text": [
      "/home/rodrigo/anaconda3/envs/NPG-dev/lib/python3.11/site-packages/gymnasium/spaces/box.py:130: UserWarning: \u001b[33mWARN: Box bound precision lowered by casting to float64\u001b[0m\n",
      "  gym.logger.warn(f\"Box bound precision lowered by casting to {self.dtype}\")\n",
      "\n"
     ]
    }
   ],
   "source": [
    "sim.show_logs()"
   ]
  },
  {
   "cell_type": "code",
   "execution_count": 8,
   "id": "4353d9ca-2231-4d51-9993-16d1541c8922",
   "metadata": {},
   "outputs": [
    {
     "data": {
      "text/plain": [
       "<Axes: title={'center': 'position'}, xlabel='width', ylabel='depth'>"
      ]
     },
     "execution_count": 8,
     "metadata": {},
     "output_type": "execute_result"
    },
    {
     "data": {
      "image/png": "[encoded data removed]",
      "text/plain": [
       "<Figure size 800x600 with 2 Axes>"
      ]
     },
     "metadata": {},
     "output_type": "display_data"
    }
   ],
   "source": [
    "env.plot_trajectory()"
   ]
  },
  {
   "cell_type": "markdown",
   "id": "502eef17-ef2a-45f1-b360-ee324bb86b97",
   "metadata": {},
   "source": [
    "It is also possible to load the parameters of an existing simulation and run it again with the same or different set of parameters. For example, we can create an empty SingleSim object, load the parameters of the existing one, change the parameters, and run the simulation."
   ]
  },
  {
   "cell_type": "code",
   "execution_count": 9,
   "id": "fccb720e-9093-48c9-81df-d28a0bb15c9a",
   "metadata": {},
   "outputs": [],
   "source": [
    "sim2 = SingleSim()"
   ]
  },
  {
   "cell_type": "code",
   "execution_count": 10,
   "id": "fd376077-0b1e-4eb0-9bc2-d59415482eeb",
   "metadata": {},
   "outputs": [],
   "source": [
    "sim2.load_params(\"results_sim\")"
   ]
  },
  {
   "cell_type": "code",
   "execution_count": 11,
   "id": "dbeb90cb-a8a6-4ae9-b4c9-4bb1bc2f0eae",
   "metadata": {},
   "outputs": [
    {
     "name": "stdout",
     "output_type": "stream",
     "text": [
      "Simulation: SR_custom_sim\n",
      "Agent: <class 'neuralplayground.agents.stachenfeld_2018.Stachenfeld2018'>\n",
      "Agent params: {'discount': 0.99, 'threshold': 1e-06, 'lr_td': 0.01, 'state_density': 1, 'room_width': 12, 'room_depth': 12, 'twoD': True}\n",
      "Environment: <class 'neuralplayground.arenas.simple2d.Simple2D'>\n",
      "Environment params: {'arena_x_limits': [-6, 6], 'arena_y_limits': [-6, 6], 'env_name': 'env_example', 'time_step_size': 0.2, 'agent_step_size': 1}\n",
      "Training loop: <function episode_based_training_loop at 0x7fe155d96520>\n",
      "Training loop params: {'t_episode': 100, 'n_episode': 10}\n",
      "\n"
     ]
    }
   ],
   "source": [
    "print(sim2)"
   ]
  },
  {
   "cell_type": "code",
   "execution_count": 12,
   "id": "f5fe485d-f780-4ef6-b725-149f1b08e8c7",
   "metadata": {},
   "outputs": [
    {
     "name": "stdout",
     "output_type": "stream",
     "text": [
      "Simulation: SR_custom_sim\n",
      "Agent: <class 'neuralplayground.agents.stachenfeld_2018.Stachenfeld2018'>\n",
      "Agent params: {'discount': 0.99, 'threshold': 1e-06, 'lr_td': 0.001, 'state_density': 1, 'room_width': 12, 'room_depth': 12, 'twoD': True}\n",
      "Environment: <class 'neuralplayground.arenas.simple2d.Simple2D'>\n",
      "Environment params: {'arena_x_limits': [-6, 6], 'arena_y_limits': [-6, 6], 'env_name': 'env_example', 'time_step_size': 0.2, 'agent_step_size': 1}\n",
      "Training loop: <function episode_based_training_loop at 0x7fe155d96520>\n",
      "Training loop params: {'t_episode': 100, 'n_episode': 10}\n",
      "\n"
     ]
    }
   ],
   "source": [
    "new_params = sim2.agent_params  # Here we take the agent parameters\n",
    "new_params[\"lr_td\"] = 0.001   # Change the learning rate\n",
    "sim2.agent_params = new_params  # Set the parameters with the new learning rate\n",
    "print(sim2)\n",
    "sim2.run_sim(\"small_lr_sim\")  # Run with all parameters equal except for the learning rate"
   ]
  },
  {
   "cell_type": "markdown",
   "id": "8bce2c79-5512-48e4-912d-44bfe5bc7a2c",
   "metadata": {},
   "source": [
    "## Simulation Manager"
   ]
  },
  {
   "cell_type": "code",
   "execution_count": null,
   "id": "2cb3bef8-eb56-44c0-80d5-5893125f1bb0",
   "metadata": {},
   "outputs": [],
   "source": []
  }
 ],
 "metadata": {
  "kernelspec": {
   "display_name": "Python 3 (ipykernel)",
   "language": "python",
   "name": "python3"
  },
  "language_info": {
   "codemirror_mode": {
    "name": "ipython",
    "version": 3
   },
   "file_extension": ".py",
   "mimetype": "text/x-python",
   "name": "python",
   "nbconvert_exporter": "python",
   "pygments_lexer": "ipython3",
   "version": "3.11.3"
  }
 },
 "nbformat": 4,
 "nbformat_minor": 5
}
