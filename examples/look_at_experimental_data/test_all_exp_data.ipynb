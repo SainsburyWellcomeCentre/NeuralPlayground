{
 "cells": [
  {
   "cell_type": "code",
   "execution_count": 1,
   "metadata": {},
   "outputs": [
    {
     "data": {
      "text/html": [
       "<style>.container { width:100% !important; }</style>"
      ],
      "text/plain": [
       "<IPython.core.display.HTML object>"
      ]
     },
     "metadata": {},
     "output_type": "display_data"
    }
   ],
   "source": [
    "from IPython.display import display, HTML\n",
    "display(HTML(\"<style>.container { width:100% !important; }</style>\"))"
   ]
  },
  {
   "cell_type": "code",
   "execution_count": 2,
   "metadata": {},
   "outputs": [
    {
     "name": "stderr",
     "output_type": "stream",
     "text": [
      "/Users/clementine/anaconda3/envs/sehec/lib/python3.10/site-packages/scipy/__init__.py:146: UserWarning: A NumPy version >=1.16.5 and <1.23.0 is required for this version of SciPy (detected version 1.23.1\n",
      "  warnings.warn(f\"A NumPy version >={np_minversion} and <{np_maxversion}\"\n"
     ]
    }
   ],
   "source": [
    "from sehec.envs.experiments.behavioral_data import SargoliniData, FullSargoliniData, FullHaftingData"
   ]
  },
  {
   "cell_type": "code",
   "execution_count": 3,
   "metadata": {},
   "outputs": [],
   "source": [
    "sarg_data = SargoliniData()"
   ]
  },
  {
   "cell_type": "code",
   "execution_count": 4,
   "metadata": {},
   "outputs": [
    {
     "name": "stdout",
     "output_type": "stream",
     "text": [
      "Data path  /Users/clementine/Documents/UCL/lectures/neuroscience_models_prosecutor_old/sehec/envs/experiments/Sargolini2006/raw_data_sample/\n",
      "The sample includes conjunctive cells and head direction cells from layers III and V of medial entorhinal cortex and have  been published in \n",
      "Sargolini et al. (Science, 2006). \n",
      "\n",
      "The files are in matlab format. They include spike and position times for recorded cells from rats that were running in a 1 x 1 m\n",
      "enclosure. The cells were recorded in the dorsocaudal 25% portion of the medial entorhinal cortex. Position is given for two LEDs \n",
      "to enable calculation of head direction.\n",
      "\n",
      "The cell id is based on tetrode number and cell number (i.e: t2c7).\n",
      "\n",
      "The file naming convention is as follow:\n",
      "\n",
      "Rat number - session number _ cell id (i.e: 11084-03020501_t2c1).\n",
      "\n",
      "Each session duration is normally 10 minutes, but some sessions are combination of 2 or more 10 minutes sessions, this is marked in \n",
      "the file name by using \"+\" between the session numbers (i.e: 11207-21060501+02_t6c1). Note that the 6 first digits in the session \n",
      "number is the date of the recording.\n",
      "\n",
      "When loading the files into Matlab you get the following variables:\n",
      "\n",
      "x1\tArray with the x-positions for the first tracking LED.\n",
      "y1\tArray with the y-positions for the first tracking LED.\n",
      "x2\tArray with the x-positions for the second tracking LED.\n",
      "y2\tArray with the y-positions for the second tracking LED.\n",
      "t\tArray with the position timestamps.\n",
      "ts\tArray with the cell spike timestamps.\n",
      "\n",
      "The position data have been smoothed with a moving mean filter to remove tracking jitter.\n",
      "\n",
      "\n",
      "You can use the data for whatever you want but we take no responsibility for what is published!\n",
      "\n",
      "Please refer to our web site where you obtained the data in your Methods section when you write up the results.\n",
      "\n",
      "Best regards,\n",
      "\n",
      "Raymond Skjerpeng and Edvard Moser\n",
      "Kavli Institute for Systems Neuroscience\n",
      "Centre for the Biology of Memory\n",
      "Norwegian University of Science and Technology\n",
      "\n",
      "Correspondence: Edvard Moser (edvard.moser@ntnu.no)\n",
      "\n",
      "The sample includes conjunctive cells and head direction cells from layers III and V of medial entorhinal cortex and have  been published in \n",
      "Sargolini et al. (Science, 2006). \n",
      "\n",
      "The files are in matlab format. They include spike and position times for recorded cells from rats that were running in a 1 x 1 m\n",
      "enclosure. The cells were recorded in the dorsocaudal 25% portion of the medial entorhinal cortex. Position is given for two LEDs \n",
      "to enable calculation of head direction.\n",
      "\n",
      "The cell id is based on tetrode number and cell number (i.e: t2c7).\n",
      "\n",
      "The file naming convention is as follow:\n",
      "\n",
      "Rat number - session number _ cell id (i.e: 11084-03020501_t2c1).\n",
      "\n",
      "Each session duration is normally 10 minutes, but some sessions are combination of 2 or more 10 minutes sessions, this is marked in \n",
      "the file name by using \"+\" between the session numbers (i.e: 11207-21060501+02_t6c1). Note that the 6 first digits in the session \n",
      "number is the date of the recording.\n",
      "\n",
      "When loading the files into Matlab you get the following variables:\n",
      "\n",
      "x1\tArray with the x-positions for the first tracking LED.\n",
      "y1\tArray with the y-positions for the first tracking LED.\n",
      "x2\tArray with the x-positions for the second tracking LED.\n",
      "y2\tArray with the y-positions for the second tracking LED.\n",
      "t\tArray with the position timestamps.\n",
      "ts\tArray with the cell spike timestamps.\n",
      "\n",
      "The position data have been smoothed with a moving mean filter to remove tracking jitter.\n",
      "\n",
      "\n",
      "You can use the data for whatever you want but we take no responsibility for what is published!\n",
      "\n",
      "Please refer to our web site where you obtained the data in your Methods section when you write up the results.\n",
      "\n",
      "Best regards,\n",
      "\n",
      "Raymond Skjerpeng and Edvard Moser\n",
      "Kavli Institute for Systems Neuroscience\n",
      "Centre for the Biology of Memory\n",
      "Norwegian University of Science and Technology\n",
      "\n",
      "Correspondence: Edvard Moser (edvard.moser@ntnu.no)\n",
      "\n",
      "{'recording_nbr': 0, 'rat_id': '11016', 'sess': '02020502', 'cell_id': 'T5C1'}\n",
      "{'recording_nbr': 1, 'rat_id': '11016', 'sess': '02020502', 'cell_id': 'T7C1'}\n",
      "{'recording_nbr': 2, 'rat_id': '11016', 'sess': '02020502', 'cell_id': 'EEG'}\n",
      "{'recording_nbr': 3, 'rat_id': '11016', 'sess': '02020502', 'cell_id': 'EGF'}\n",
      "{'recording_nbr': 4, 'rat_id': '11016', 'sess': '25010501', 'cell_id': 'T6C2'}\n",
      "{'recording_nbr': 5, 'rat_id': '11016', 'sess': '25010501', 'cell_id': 'EEG'}\n",
      "{'recording_nbr': 6, 'rat_id': '11016', 'sess': '25010501', 'cell_id': 'EGF'}\n",
      "{'recording_nbr': 7, 'rat_id': '11016', 'sess': '28010501', 'cell_id': 'T1C2'}\n",
      "{'recording_nbr': 8, 'rat_id': '11016', 'sess': '28010501', 'cell_id': 'EEG'}\n",
      "{'recording_nbr': 9, 'rat_id': '11016', 'sess': '28010501', 'cell_id': 'EGF'}\n",
      "{'recording_nbr': 10, 'rat_id': '11016', 'sess': '29010503', 'cell_id': 'T5C1'}\n",
      "{'recording_nbr': 11, 'rat_id': '11016', 'sess': '29010503', 'cell_id': 'T6C1'}\n",
      "{'recording_nbr': 12, 'rat_id': '11016', 'sess': '29010503', 'cell_id': 'T6C2'}\n",
      "{'recording_nbr': 13, 'rat_id': '11016', 'sess': '29010503', 'cell_id': 'T7C1'}\n",
      "{'recording_nbr': 14, 'rat_id': '11016', 'sess': '29010503', 'cell_id': 'EEG'}\n",
      "{'recording_nbr': 15, 'rat_id': '11016', 'sess': '29010503', 'cell_id': 'EGF'}\n",
      "{'recording_nbr': 16, 'rat_id': '11016', 'sess': '31010502', 'cell_id': 'T5C2'}\n",
      "{'recording_nbr': 17, 'rat_id': '11016', 'sess': '31010502', 'cell_id': 'T6C1'}\n",
      "{'recording_nbr': 18, 'rat_id': '11016', 'sess': '31010502', 'cell_id': 'T6C2'}\n",
      "{'recording_nbr': 19, 'rat_id': '11016', 'sess': '31010502', 'cell_id': 'T6C3'}\n",
      "{'recording_nbr': 20, 'rat_id': '11016', 'sess': '31010502', 'cell_id': 'T8C2'}\n",
      "{'recording_nbr': 21, 'rat_id': '11016', 'sess': '31010502', 'cell_id': 'EEG'}\n",
      "{'recording_nbr': 22, 'rat_id': '11016', 'sess': '31010502', 'cell_id': 'EGF'}\n",
      "Rat ids ['11016']\n"
     ]
    },
    {
     "name": "stderr",
     "output_type": "stream",
     "text": [
      "/Users/clementine/Documents/UCL/lectures/neuroscience_models_prosecutor_old/sehec/envs/experiments/behavioral_data.py:386: RuntimeWarning: invalid value encountered in divide\n",
      "  head_direction = head_direction/np.sqrt(np.sum(head_direction**2, axis=1))[..., np.newaxis]\n"
     ]
    }
   ],
   "source": [
    "fullsarg_data = FullSargoliniData(verbose=True)"
   ]
  },
  {
   "cell_type": "code",
   "execution_count": null,
   "metadata": {},
   "outputs": [
    {
     "data": {
      "image/png": "[encoded data removed]",
      "text/plain": [
       "<Figure size 720x576 with 2 Axes>"
      ]
     },
     "metadata": {
      "needs_background": "light"
     },
     "output_type": "display_data"
    }
   ],
   "source": [
    "fullsarg_data.plot_recording(0)\n",
    "fullsarg_data.plot_trajectory(0)\n"
   ]
  },
  {
   "cell_type": "code",
   "execution_count": null,
   "metadata": {},
   "outputs": [],
   "source": [
    "fullsarg_data.show_keys()"
   ]
  },
  {
   "cell_type": "code",
   "execution_count": null,
   "metadata": {},
   "outputs": [],
   "source": [
    "fullhafting_data = FullHaftingData()"
   ]
  },
  {
   "cell_type": "code",
   "execution_count": null,
   "metadata": {},
   "outputs": [],
   "source": [
    "fullhafting_data.show_readme()"
   ]
  },
  {
   "cell_type": "code",
   "execution_count": null,
   "metadata": {},
   "outputs": [],
   "source": [
    "fullhafting_data."
   ]
  },
  {
   "cell_type": "code",
   "execution_count": null,
   "metadata": {},
   "outputs": [],
   "source": [
    "fullhafting_data.show_keys()"
   ]
  },
  {
   "cell_type": "code",
   "execution_count": null,
   "metadata": {},
   "outputs": [],
   "source": [
    "fullhafting_data.data_per_animal[\"11015\"][\"13120410\"]"
   ]
  },
  {
   "cell_type": "code",
   "execution_count": null,
   "metadata": {},
   "outputs": [],
   "source": [
    "fullhafting_data.plot_session()"
   ]
  },
  {
   "cell_type": "code",
   "execution_count": null,
   "metadata": {},
   "outputs": [],
   "source": [
    "fullhafting_data.best_session"
   ]
  },
  {
   "cell_type": "code",
   "execution_count": null,
   "metadata": {},
   "outputs": [],
   "source": [
    "    # data_path = \"sargolini2006/\"\n",
    "    # experiment_name = \"Sargolini2006\"\n",
    "    # data = SargoliniData(data_path=data_path, experiment_name=experiment_name)\n",
    "    # print(data.position.shape)\n",
    "    # print(data.head_direction.shape)\n",
    "    # print(np.amin(data.position), np.amax(data.position))"
   ]
  }
 ],
 "metadata": {
  "kernelspec": {
   "display_name": "Python 3 (ipykernel)",
   "language": "python",
   "name": "python3"
  },
  "language_info": {
   "codemirror_mode": {
    "name": "ipython",
    "version": 3
   },
   "file_extension": ".py",
   "mimetype": "text/x-python",
   "name": "python",
   "nbconvert_exporter": "python",
   "pygments_lexer": "ipython3",
   "version": "3.10.4"
  }
 },
 "nbformat": 4,
 "nbformat_minor": 4
}
