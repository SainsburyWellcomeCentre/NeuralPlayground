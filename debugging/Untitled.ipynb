{
 "cells": [
  {
   "cell_type": "code",
   "execution_count": 1,
   "id": "012a3394-7e01-490e-843c-c674ca83c80e",
   "metadata": {},
   "outputs": [
    {
     "name": "stdout",
     "output_type": "stream",
     "text": [
      "/home/rodrigo/SSD/Projects/NeuralPlayground/neuralplayground/config/default_config.yaml\n"
     ]
    }
   ],
   "source": [
    "import numpy as np\n",
    "from neuralplayground.comparison import test_function\n",
    "from neuralplayground.config import PLOT_CONFIG\n",
    "from neuralplayground.config import load_config"
   ]
  },
  {
   "cell_type": "code",
   "execution_count": 2,
   "id": "4c981a12-51d1-4245-8205-310dd358c0ce",
   "metadata": {
    "scrolled": false
   },
   "outputs": [
    {
     "name": "stdout",
     "output_type": "stream",
     "text": [
      "FIGURE_SIZE: (8, 6)\n",
      "TRAJECTORY_COLORMAP: plasma\n",
      "TRAJECTORY_ALPHA: 0.6\n",
      "EXTERNAL_WALL_COLOR: C3\n",
      "EXTERNAL_WALL_THICKNESS: 3\n",
      "CUSTOM_WALL_COLOR: C0\n",
      "CUSTOM_WALL_THICKNESS: 3\n",
      "SCATTER_ALPHA: 0.6\n",
      "SCATTER_MARKER: o\n",
      "SCATTER_MARKER_SIZE: 0.1\n",
      "LABEL_FONTSIZE: 24\n",
      "TICK_LABEL_FONTSIZE: 12\n",
      "PLOT_EVERY_POINTS: 20\n",
      "GRID: True\n",
      "\n"
     ]
    }
   ],
   "source": [
    "print(PLOT_CONFIG.TRAJECTORY)"
   ]
  },
  {
   "cell_type": "code",
   "execution_count": 3,
   "id": "ad7cf05a-1932-4f4c-8e6d-7acbffbafe8b",
   "metadata": {},
   "outputs": [
    {
     "name": "stdout",
     "output_type": "stream",
     "text": [
      "FIGURE_SIZE: (8, 6)\n",
      "RATEMAP_COLORMAP: jet\n",
      "BIN_SIZE: 2.0\n",
      "LABEL_FONTSIZE: 24\n",
      "TICK_LABEL_FONTSIZE: 12\n",
      "COLORBAR_LABEL_FONTSIZE: 12\n",
      "\n"
     ]
    }
   ],
   "source": [
    "print(PLOT_CONFIG.RATEMAP)"
   ]
  },
  {
   "cell_type": "code",
   "execution_count": 4,
   "id": "e783708a-5946-4bfe-80c6-3ce92c24cb4f",
   "metadata": {},
   "outputs": [
    {
     "data": {
      "text/plain": [
       "'C3'"
      ]
     },
     "execution_count": 4,
     "metadata": {},
     "output_type": "execute_result"
    }
   ],
   "source": [
    "PLOT_CONFIG.TRAJECTORY.EXTERNAL_WALL_COLOR"
   ]
  },
  {
   "cell_type": "code",
   "execution_count": 5,
   "id": "eeeb1262-6ea7-45df-bb92-a85258161c39",
   "metadata": {},
   "outputs": [
    {
     "name": "stdout",
     "output_type": "stream",
     "text": [
      "FIGURE_SIZE: (8, 6)\n",
      "TRAJECTORY_COLORMAP: plasma\n",
      "TRAJECTORY_ALPHA: 0.6\n",
      "EXTERNAL_WALL_COLOR: C3\n",
      "EXTERNAL_WALL_THICKNESS: 3\n",
      "CUSTOM_WALL_COLOR: C0\n",
      "CUSTOM_WALL_THICKNESS: 3\n",
      "SCATTER_ALPHA: 0.6\n",
      "SCATTER_MARKER: o\n",
      "SCATTER_MARKER_SIZE: 0.1\n",
      "LABEL_FONTSIZE: 24\n",
      "TICK_LABEL_FONTSIZE: 12\n",
      "PLOT_EVERY_POINTS: 20\n",
      "GRID: True\n",
      "\n"
     ]
    }
   ],
   "source": [
    "test_function()"
   ]
  },
  {
   "cell_type": "code",
   "execution_count": 6,
   "id": "93a023bb-f676-4415-ba65-d5608248876a",
   "metadata": {},
   "outputs": [],
   "source": [
    "PLOT_CONFIG.TRAJECTORY.TRAJECTORY_COLORMAP = \"bla\""
   ]
  },
  {
   "cell_type": "code",
   "execution_count": 7,
   "id": "ccb440d1-7017-4f76-8211-3129c25f7f40",
   "metadata": {},
   "outputs": [
    {
     "name": "stdout",
     "output_type": "stream",
     "text": [
      "FIGURE_SIZE: (8, 6)\n",
      "TRAJECTORY_COLORMAP: bla\n",
      "TRAJECTORY_ALPHA: 0.6\n",
      "EXTERNAL_WALL_COLOR: C3\n",
      "EXTERNAL_WALL_THICKNESS: 3\n",
      "CUSTOM_WALL_COLOR: C0\n",
      "CUSTOM_WALL_THICKNESS: 3\n",
      "SCATTER_ALPHA: 0.6\n",
      "SCATTER_MARKER: o\n",
      "SCATTER_MARKER_SIZE: 0.1\n",
      "LABEL_FONTSIZE: 24\n",
      "TICK_LABEL_FONTSIZE: 12\n",
      "PLOT_EVERY_POINTS: 20\n",
      "GRID: True\n",
      "\n"
     ]
    }
   ],
   "source": [
    "test_function()"
   ]
  },
  {
   "cell_type": "code",
   "execution_count": 8,
   "id": "dabe400b",
   "metadata": {},
   "outputs": [
    {
     "name": "stdout",
     "output_type": "stream",
     "text": [
      "../default_conf.yaml\n",
      "TRAJECTORY:\n",
      "    FIGURE_SIZE: (8, 6)\n",
      "    TRAJECTORY_COLORMAP: bla\n",
      "    TRAJECTORY_ALPHA: 0.6\n",
      "    EXTERNAL_WALL_COLOR: C3\n",
      "    EXTERNAL_WALL_THICKNESS: 3\n",
      "    CUSTOM_WALL_COLOR: C0\n",
      "    CUSTOM_WALL_THICKNESS: 3\n",
      "    SCATTER_ALPHA: 0.6\n",
      "    SCATTER_MARKER: o\n",
      "    SCATTER_MARKER_SIZE: 0.1\n",
      "    LABEL_FONTSIZE: 24\n",
      "    TICK_LABEL_FONTSIZE: 12\n",
      "    PLOT_EVERY_POINTS: 20\n",
      "    GRID: True\n",
      "RATEMAP:\n",
      "    FIGURE_SIZE: (8, 6)\n",
      "    RATEMAP_COLORMAP: jet\n",
      "    BIN_SIZE: 2.0\n",
      "    LABEL_FONTSIZE: 24\n",
      "    TICK_LABEL_FONTSIZE: 12\n",
      "    COLORBAR_LABEL_FONTSIZE: 12\n",
      "\n"
     ]
    }
   ],
   "source": [
    "from neuralplayground import load_config\n",
    "load_config(\"../default_conf.yaml\")"
   ]
  },
  {
   "cell_type": "code",
   "execution_count": 9,
   "id": "08cf8d29",
   "metadata": {},
   "outputs": [
    {
     "name": "stdout",
     "output_type": "stream",
     "text": [
      "TRAJECTORY:\n",
      "    FIGURE_SIZE: (8, 6)\n",
      "    TRAJECTORY_COLORMAP: bla\n",
      "    TRAJECTORY_ALPHA: 0.6\n",
      "    EXTERNAL_WALL_COLOR: C3\n",
      "    EXTERNAL_WALL_THICKNESS: 3\n",
      "    CUSTOM_WALL_COLOR: C0\n",
      "    CUSTOM_WALL_THICKNESS: 3\n",
      "    SCATTER_ALPHA: 0.6\n",
      "    SCATTER_MARKER: o\n",
      "    SCATTER_MARKER_SIZE: 0.1\n",
      "    LABEL_FONTSIZE: 24\n",
      "    TICK_LABEL_FONTSIZE: 12\n",
      "    PLOT_EVERY_POINTS: 20\n",
      "    GRID: True\n",
      "RATEMAP:\n",
      "    FIGURE_SIZE: (8, 6)\n",
      "    RATEMAP_COLORMAP: jet\n",
      "    BIN_SIZE: 2.0\n",
      "    LABEL_FONTSIZE: 24\n",
      "    TICK_LABEL_FONTSIZE: 12\n",
      "    COLORBAR_LABEL_FONTSIZE: 12\n",
      "\n"
     ]
    }
   ],
   "source": [
    "print(PLOT_CONFIG)"
   ]
  },
  {
   "cell_type": "code",
   "execution_count": null,
   "id": "c0a3c7fc",
   "metadata": {},
   "outputs": [],
   "source": [
    "test_function()"
   ]
  },
  {
   "cell_type": "code",
   "execution_count": null,
   "id": "ceefa913",
   "metadata": {},
   "outputs": [],
   "source": []
  }
 ],
 "metadata": {
  "kernelspec": {
   "display_name": "Python 3 (ipykernel)",
   "language": "python",
   "name": "python3"
  },
  "language_info": {
   "codemirror_mode": {
    "name": "ipython",
    "version": 3
   },
   "file_extension": ".py",
   "mimetype": "text/x-python",
   "name": "python",
   "nbconvert_exporter": "python",
   "pygments_lexer": "ipython3",
   "version": "3.11.3"
  }
 },
 "nbformat": 4,
 "nbformat_minor": 5
}
