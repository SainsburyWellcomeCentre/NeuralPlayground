{
 "cells": [
  {
   "cell_type": "code",
   "execution_count": 1,
   "id": "012a3394-7e01-490e-843c-c674ca83c80e",
   "metadata": {},
   "outputs": [],
   "source": [
    "import numpy as np\n",
    "from neuralplayground.config import PLOT_CONFIG\n",
    "from neuralplayground.comparison import test_function"
   ]
  },
  {
   "cell_type": "code",
   "execution_count": 2,
   "id": "4c981a12-51d1-4245-8205-310dd358c0ce",
   "metadata": {},
   "outputs": [
    {
     "name": "stdout",
     "output_type": "stream",
     "text": [
      "{'TRAJECTORY': <neuralplayground.config.plot_config.TrajectoryConfig object at 0x7fdbbf3e7310>, 'RATEMAP': <neuralplayground.config.plot_config.RateMapConfig object at 0x7fdbbc117fd0>}\n"
     ]
    }
   ],
   "source": [
    "print(PLOT_CONFIG)"
   ]
  },
  {
   "cell_type": "code",
   "execution_count": 3,
   "id": "ad7cf05a-1932-4f4c-8e6d-7acbffbafe8b",
   "metadata": {},
   "outputs": [
    {
     "name": "stdout",
     "output_type": "stream",
     "text": [
      "{'FIGURE_SIZE': (8, 6), 'RATEMAP_COLORMAP': 'jet', 'BIN_SIZE': 2.0, 'LABEL_FONTSIZE': 24, 'TICK_LABEL_FONTSIZE': 12, 'COLORBAR_LABEL_FONTSIZE': 12}\n"
     ]
    }
   ],
   "source": [
    "print(PLOT_CONFIG.RATEMAP)"
   ]
  },
  {
   "cell_type": "code",
   "execution_count": 4,
   "id": "e783708a-5946-4bfe-80c6-3ce92c24cb4f",
   "metadata": {},
   "outputs": [
    {
     "data": {
      "text/plain": [
       "'C3'"
      ]
     },
     "execution_count": 4,
     "metadata": {},
     "output_type": "execute_result"
    }
   ],
   "source": [
    "PLOT_CONFIG.TRAJECTORY.EXTERNAL_WALL_COLOR"
   ]
  },
  {
   "cell_type": "code",
   "execution_count": 5,
   "id": "eeeb1262-6ea7-45df-bb92-a85258161c39",
   "metadata": {},
   "outputs": [
    {
     "name": "stdout",
     "output_type": "stream",
     "text": [
      "{'FIGURE_SIZE': (8, 6), 'TRAJECTORY_COLORMAP': 'plasma', 'TRAJECTORY_ALPHA': 0.6, 'EXTERNAL_WALL_COLOR': 'C3', 'EXTERNAL_WALL_THICKNESS': 3, 'CUSTOM_WALL_COLOR': 'C0', 'CUSTOM_WALL_THICKNESS': 3, 'SCATTER_ALPHA': 0.6, 'SCATTER_MARKER': 'o', 'SCATTER_MARKER_SIZE': 0.1, 'LABEL_FONTSIZE': 24, 'TICK_LABEL_FONTSIZE': 12, 'PLOT_EVERY_POINTS': 20, 'GRID': True}\n"
     ]
    }
   ],
   "source": [
    "test_function()"
   ]
  },
  {
   "cell_type": "code",
   "execution_count": 6,
   "id": "93a023bb-f676-4415-ba65-d5608248876a",
   "metadata": {},
   "outputs": [],
   "source": [
    "PLOT_CONFIG.TRAJECTORY.EXTERNAL_WALL_COLOR = \"C0\""
   ]
  },
  {
   "cell_type": "code",
   "execution_count": 7,
   "id": "ccb440d1-7017-4f76-8211-3129c25f7f40",
   "metadata": {},
   "outputs": [
    {
     "name": "stdout",
     "output_type": "stream",
     "text": [
      "{'FIGURE_SIZE': (8, 6), 'TRAJECTORY_COLORMAP': 'plasma', 'TRAJECTORY_ALPHA': 0.6, 'EXTERNAL_WALL_COLOR': 'C0', 'EXTERNAL_WALL_THICKNESS': 3, 'CUSTOM_WALL_COLOR': 'C0', 'CUSTOM_WALL_THICKNESS': 3, 'SCATTER_ALPHA': 0.6, 'SCATTER_MARKER': 'o', 'SCATTER_MARKER_SIZE': 0.1, 'LABEL_FONTSIZE': 24, 'TICK_LABEL_FONTSIZE': 12, 'PLOT_EVERY_POINTS': 20, 'GRID': True}\n"
     ]
    }
   ],
   "source": [
    "test_function()"
   ]
  },
  {
   "cell_type": "code",
   "execution_count": null,
   "id": "0889fb01-f906-4881-9f02-f3594518c218",
   "metadata": {},
   "outputs": [],
   "source": []
  }
 ],
 "metadata": {
  "kernelspec": {
   "display_name": "Python 3 (ipykernel)",
   "language": "python",
   "name": "python3"
  },
  "language_info": {
   "codemirror_mode": {
    "name": "ipython",
    "version": 3
   },
   "file_extension": ".py",
   "mimetype": "text/x-python",
   "name": "python",
   "nbconvert_exporter": "python",
   "pygments_lexer": "ipython3",
   "version": "3.10.9"
  }
 },
 "nbformat": 4,
 "nbformat_minor": 5
}
