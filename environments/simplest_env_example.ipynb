{
 "cells": [
  {
   "cell_type": "code",
   "execution_count": 1,
   "metadata": {},
   "outputs": [],
   "source": [
    "import sys\n",
    "sys.path.append(\"../\")\n",
    "import numpy as np\n",
    "import matplotlib.pyplot as plt\n",
    "from environments.env_list.simple2d import Simple2D\n",
    "from model.basic import ExcitInhibitoryplastic"
   ]
  },
  {
   "cell_type": "code",
   "execution_count": 2,
   "metadata": {},
   "outputs": [],
   "source": [
    "room_width = 15\n",
    "room_depth = 7\n",
    "env_name = \"env_example\"\n",
    "time_step_size = 0.1 \n",
    "agent_step_size = 0.5\n",
    "\n",
    "# Init environment\n",
    "env = Simple2D(environment_name=env_name,\n",
    "               room_width = room_width,\n",
    "               room_depth = room_depth,\n",
    "               time_step_size = time_step_size,\n",
    "               agent_step_size = agent_step_size)\n",
    "\n"
   ]
  },
  {
   "cell_type": "code",
   "execution_count": null,
   "metadata": {},
   "outputs": [],
   "source": [
    "\n"
   ]
  },
  {
   "cell_type": "code",
   "execution_count": 3,
   "metadata": {},
   "outputs": [],
   "source": [
    "exc_eta_1=2e-6\n",
    "inh_eta_1= 8e-6\n",
    "model_name_1 = \"model_example\"\n",
    "sigma_exc_1= 0.05\n",
    "sigma_inh_1=0.1\n",
    "Ne_1= 4900\n",
    "Ni_1= 1225\n",
    "alpha_inh_1=1\n",
    "alpha_exc_1=1\n",
    "    \n",
    "agent=ExcitInhibitoryplastic(model_name= model_name_1,exc_eta=exc_eta_1,inh_eta=inh_eta_1, sigma_exc=sigma_exc_1, sigma_inh=sigma_inh_1, Ne=Ne_1, Ni= Ni_1, alpha_inh=alpha_inh_1,alpha_exc=alpha_exc_1)\n",
    "\n"
   ]
  },
  {
   "cell_type": "code",
   "execution_count": 4,
   "metadata": {},
   "outputs": [
    {
     "name": "stdout",
     "output_type": "stream",
     "text": [
      "(4900,)\n",
      "(4900, 1)\n",
      "(1,)\n",
      "(4900,)\n",
      "[8433.20941144]\n",
      "(4900,)\n",
      "(4900, 1)\n",
      "(1,)\n",
      "(4900,)\n",
      "[5414.02382765]\n",
      "(4900,)\n",
      "(4900, 1)\n",
      "(1,)\n",
      "(4900,)\n",
      "[4587.96995326]\n",
      "(4900,)\n",
      "(4900, 1)\n",
      "(1,)\n",
      "(4900,)\n",
      "[4378.23683187]\n",
      "(4900,)\n",
      "(4900, 1)\n",
      "(1,)\n",
      "(4900,)\n",
      "[4687.02987452]\n",
      "(4900,)\n",
      "(4900, 1)\n",
      "(1,)\n",
      "(4900,)\n",
      "[82723.25309773]\n",
      "(4900,)\n",
      "(4900, 1)\n",
      "(1,)\n",
      "(4900,)\n",
      "[25297.57967821]\n",
      "(4900,)\n",
      "(4900, 1)\n",
      "(1,)\n",
      "(4900,)\n",
      "[17446.55775264]\n",
      "(4900,)\n",
      "(4900, 1)\n",
      "(1,)\n",
      "(4900,)\n",
      "[18736.14644422]\n",
      "(4900,)\n",
      "(4900, 1)\n",
      "(1,)\n",
      "(4900,)\n",
      "[15996.11042641]\n"
     ]
    }
   ],
   "source": [
    "n_steps = 10\n",
    "\n",
    "# Initialize environment\n",
    "obs, state = env.reset()\n",
    "for i in range(n_steps):\n",
    "    # Observe to choose an action\n",
    "    action = agent.act(obs)\n",
    "    rate =  agent.update(action)\n",
    "    print(rate)\n",
    "    # Run environment for given action\n",
    "    obs, state, reward = env.step(action)\n",
    "    \n",
    "    "
   ]
  },
  {
   "cell_type": "code",
   "execution_count": 5,
   "metadata": {},
   "outputs": [],
   "source": [
    "exc_eta_1=2e-6\n",
    "inh_eta_1= 8e-6\n",
    "sigma_exc_1= [0.05, 0.05]\n",
    "sigma_inh_1=[0.1, 0.1]\n",
    "Ne_1= 4900\n",
    "Ni_1= 1225\n",
    "alpha_inh_1=1\n",
    "alpha_exc_1=1\n",
    "    \n",
    "agent=ExcitInhibitoryplastic(exc_eta=exc_eta_1,inh_eta=inh_eta_1,sigma_exc=sigma_exc_1, sigma_inh=sigma_inh_1,Ne=Ne_1, Ni= Ni_1,alpha_inh=alpha_inh_1,alpha_exc=alpha_exc_1)\n",
    "\n"
   ]
  },
  {
   "cell_type": "code",
   "execution_count": 6,
   "metadata": {},
   "outputs": [
    {
     "name": "stdout",
     "output_type": "stream",
     "text": [
      "[-1.35049425 -1.27267077]\n"
     ]
    },
    {
     "data": {
      "image/png": "[encoded data removed]",
      "text/plain": [
       "<Figure size 576x432 with 1 Axes>"
      ]
     },
     "metadata": {
      "needs_background": "light"
     },
     "output_type": "display_data"
    }
   ],
   "source": [
    "ax = env.plot_trajectory()\n",
    "fontsize = 16\n",
    "ax.grid()\n",
    "ax.legend(fontsize=fontsize, loc=\"upper left\")\n",
    "ax.set_xlabel(\"width\", fontsize=fontsize)\n",
    "ax.set_ylabel(\"depth\", fontsize=fontsize)\n",
    "plt.show()"
   ]
  },
  {
   "cell_type": "code",
   "execution_count": null,
   "metadata": {},
   "outputs": [],
   "source": []
  },
  {
   "cell_type": "code",
   "execution_count": null,
   "metadata": {},
   "outputs": [],
   "source": []
  },
  {
   "cell_type": "code",
   "execution_count": null,
   "metadata": {},
   "outputs": [],
   "source": []
  },
  {
   "cell_type": "code",
   "execution_count": null,
   "metadata": {},
   "outputs": [],
   "source": []
  },
  {
   "cell_type": "code",
   "execution_count": null,
   "metadata": {},
   "outputs": [],
   "source": []
  }
 ],
 "metadata": {
  "kernelspec": {
   "display_name": "Python 3 (ipykernel)",
   "language": "python",
   "name": "python3"
  },
  "language_info": {
   "codemirror_mode": {
    "name": "ipython",
    "version": 3
   },
   "file_extension": ".py",
   "mimetype": "text/x-python",
   "name": "python",
   "nbconvert_exporter": "python",
   "pygments_lexer": "ipython3",
   "version": "3.9.7"
  }
 },
 "nbformat": 4,
 "nbformat_minor": 4
}
