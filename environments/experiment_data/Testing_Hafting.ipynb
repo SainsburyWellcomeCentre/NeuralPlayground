{
 "cells": [
  {
   "cell_type": "code",
   "execution_count": 50,
   "metadata": {},
   "outputs": [],
   "source": [
    "import matplotlib.pyplot as plt\n",
    "import numpy as np\n",
    "import pandas as pd\n",
    "import scipy.io as sio\n",
    "import glob\n",
    "from scipy.interpolate import interp1d\n",
    "import sys\n",
    "sys.path.append(\"./\")"
   ]
  },
  {
   "cell_type": "code",
   "execution_count": 51,
   "metadata": {},
   "outputs": [],
   "source": [
    "data_path = \"Hafting2008/C43035A4-5CC5-44F2-B207-126922523FD9_1/\"\n",
    "\n",
    "data_path_list = glob.glob(data_path+\"*.mat\")\n",
    "\n",
    "#The naming convention for the files is as follow\n",
    "#Rat number - session number - file type (i.e: 11015-13120410_EEG)\n",
    "\n",
    "mice_ids = np.unique([dp.split(\"/\")[-1][:5] for dp in data_path_list])\n",
    "session_per_animal = {}\n",
    "cell_id_per_session = {}\n",
    "for m_id in mice_ids:\n",
    "    m_paths_list = glob.glob(data_path + m_id + \"*.mat\")\n",
    "    sessions = np.unique([dp.split(\"/\")[-1].split(\"-\")[1][:8]  for dp in m_paths_list]).astype(str)\n",
    "    session_per_animal[m_id] = {}\n",
    "    for sess in sessions:\n",
    "        s_paths_list = glob.glob(data_path + m_id + \"-\" + sess + \"*.mat\")\n",
    "        cell_ids = np.unique([dp.split(\"/\")[-1].split(\".\")[-2][-4:] for dp in s_paths_list]).astype(str)\n",
    "        session_per_animal[m_id][sess] = {}\n",
    "        for cell_id in cell_ids:\n",
    "            r_path = s_paths_list = glob.glob(data_path + m_id + \"-\" + sess + \"*\" + cell_id + \"*.mat\")\n",
    "            session_per_animal[m_id][sess][cell_id] = sio.loadmat(r_path[0])\n",
    "            \n",
    "#Here we record for a specifique mice\n",
    "recording_paths = sorted(glob.glob(data_path+mice_ids[0]+\"-*.mat\"))\n",
    "\n"
   ]
  },
  {
   "cell_type": "code",
   "execution_count": 52,
   "metadata": {},
   "outputs": [
    {
     "name": "stdout",
     "output_type": "stream",
     "text": [
      "_EEG\n",
      "_POS\n",
      "t5c1\n"
     ]
    }
   ],
   "source": [
    "mouse_data = {}\n",
    "for r_path in recording_paths:\n",
    "    trial_id = r_path.split(\".\")[0][-4:]\n",
    "    print(trial_id)\n",
    "    mouse_data[trial_id] = sio.loadmat(r_path)"
   ]
  },
  {
   "cell_type": "code",
   "execution_count": 53,
   "metadata": {},
   "outputs": [],
   "source": [
    "def clean_data(data, keep_headers=False):\n",
    "    # print(list(data.keys()))\n",
    "    aux_dict = {}\n",
    "    for key, val in data.items():\n",
    "        if isinstance(val, bytes) or isinstance(val, str) or key==\"__globals__\":\n",
    "            if keep_headers:\n",
    "                aux_dict[key] = val\n",
    "            continue\n",
    "        else:\n",
    "            print(len(val))\n",
    "            if np.isnan(val).any():\n",
    "                aux_dict[key] = val\n",
    "            else:\n",
    "                # Interpolate nans\n",
    "                x_range = np.linspace(0, 1, num=len(val))\n",
    "                nan_indexes = np.logical_not(np.isnan(val))[:, 0]\n",
    "                clean_x = x_range[nan_indexes]\n",
    "                clean_val = np.array(val)[nan_indexes, 0]\n",
    "                print(clean_x.shape, clean_val.shape)\n",
    "                f = interp1d(clean_x, clean_val, kind='cubic')\n",
    "                aux_dict[key] = f(x_range)\n",
    "    return aux_dict"
   ]
  },
  {
   "cell_type": "code",
   "execution_count": null,
   "metadata": {},
   "outputs": [],
   "source": []
  },
  {
   "cell_type": "code",
   "execution_count": null,
   "metadata": {},
   "outputs": [],
   "source": []
  }
 ],
 "metadata": {
  "kernelspec": {
   "display_name": "Python 3",
   "language": "python",
   "name": "python3"
  },
  "language_info": {
   "codemirror_mode": {
    "name": "ipython",
    "version": 3
   },
   "file_extension": ".py",
   "mimetype": "text/x-python",
   "name": "python",
   "nbconvert_exporter": "python",
   "pygments_lexer": "ipython3",
   "version": "3.7.10"
  }
 },
 "nbformat": 4,
 "nbformat_minor": 2
}
