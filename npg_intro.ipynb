{
  "nbformat": 4,
  "nbformat_minor": 0,
  "metadata": {
    "colab": {
      "provenance": [],
      "authorship_tag": "ABX9TyPv9FGyWTwuyecIiXfyFuYQ",
      "include_colab_link": true
    },
    "kernelspec": {
      "name": "python3",
      "display_name": "Python 3"
    },
    "language_info": {
      "name": "python"
    }
  },
  "cells": [
    {
      "cell_type": "markdown",
      "metadata": {
        "id": "view-in-github",
        "colab_type": "text"
      },
      "source": [
        "<a href=\"https://colab.research.google.com/github/ClementineDomine/NeuralPlayground/blob/comparison_board/npg_intro.ipynb\" target=\"_parent\"><img src=\"https://colab.research.google.com/assets/colab-badge.svg\" alt=\"Open In Colab\"/></a>"
      ]
    },
    {
      "cell_type": "markdown",
      "source": [
        "## NeuralPlayground Introduction"
      ],
      "metadata": {
        "id": "B13ScNjdo9UF"
      }
    },
    {
      "cell_type": "code",
      "source": [],
      "metadata": {
        "id": "YrEP7UskpEAp"
      },
      "execution_count": null,
      "outputs": []
    },
    {
      "cell_type": "code",
      "source": [],
      "metadata": {
        "id": "PNjz-nPJpTgz"
      },
      "execution_count": null,
      "outputs": []
    }
  ]
}